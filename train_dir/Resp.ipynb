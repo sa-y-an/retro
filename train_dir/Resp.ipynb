{
  "cells": [
    {
      "cell_type": "markdown",
      "metadata": {},
      "source": [
        "# Training & Testing \n",
        "\n",
        "I used this code to train and test various models on the dataset. Once optimal performance was achieved best model was downloaded for each modality"
      ]
    },
    {
      "cell_type": "markdown",
      "metadata": {
        "id": "nu37wD0pKFV8"
      },
      "source": [
        "### Loading Preprocessed Data"
      ]
    },
    {
      "cell_type": "code",
      "execution_count": null,
      "metadata": {
        "colab": {
          "base_uri": "https://localhost:8080/"
        },
        "id": "SWPGBodPJ-tM",
        "outputId": "ce42a670-6d70-4c40-e7bb-d23782e73170"
      },
      "outputs": [],
      "source": [
        "# Enter the file id \n",
        "!gdown --id 1XJLa-kXOT_cBORvOgc3WnEkLX-dH\n"
      ]
    },
    {
      "cell_type": "code",
      "execution_count": null,
      "metadata": {
        "id": "rLhIX27HKLCS"
      },
      "outputs": [],
      "source": [
        "!unzip -q wdata.zip"
      ]
    },
    {
      "cell_type": "code",
      "execution_count": null,
      "metadata": {
        "id": "UVwkeaNNKPs8"
      },
      "outputs": [],
      "source": [
        "import pandas as pd"
      ]
    },
    {
      "cell_type": "markdown",
      "metadata": {},
      "source": [
        "In the cell below select a type of modal from \n",
        "- Temp\n",
        "- Resp\n",
        "- EDA\n",
        "- ECG \n",
        "- EMG \n",
        "\n",
        "To Train the model corrosponding to that modal"
      ]
    },
    {
      "cell_type": "code",
      "execution_count": null,
      "metadata": {
        "id": "5CMmqhSVoYia"
      },
      "outputs": [],
      "source": [
        "modal = 'Resp'"
      ]
    },
    {
      "cell_type": "code",
      "execution_count": null,
      "metadata": {
        "id": "OKTohc5bMRjK"
      },
      "outputs": [],
      "source": [
        "def filter(file_num:int) :\n",
        "\n",
        "  path = \"/content/wdata/Modalities/S{}_train.csv\".format(file_num)\n",
        "  df = pd.read_csv(path)\n",
        "  df = df[[modal,'label']]\n",
        "\n",
        "  return df"
      ]
    },
    {
      "cell_type": "code",
      "execution_count": null,
      "metadata": {
        "id": "ZjPYf0CxPLQb"
      },
      "outputs": [],
      "source": [
        "from sklearn.preprocessing import MinMaxScaler"
      ]
    },
    {
      "cell_type": "code",
      "execution_count": null,
      "metadata": {
        "id": "PQvQ887pPl3B"
      },
      "outputs": [],
      "source": [
        "# Time Window \n",
        "start = 0\n",
        "end = 1024"
      ]
    },
    {
      "cell_type": "code",
      "execution_count": null,
      "metadata": {
        "id": "0DgdwP-RSebF"
      },
      "outputs": [],
      "source": [
        "import seaborn as sns\n",
        "sns.set()"
      ]
    },
    {
      "cell_type": "code",
      "execution_count": null,
      "metadata": {
        "id": "76Jkw1akgFbl"
      },
      "outputs": [],
      "source": [
        "data = pd.DataFrame()\n",
        "labels = pd.DataFrame()"
      ]
    },
    {
      "cell_type": "code",
      "execution_count": null,
      "metadata": {
        "id": "JVxlkKa1ifUt"
      },
      "outputs": [],
      "source": [
        "subjects = [2,3,4,5,6,7,8,9,10,11,13,14,15,16,17]"
      ]
    },
    {
      "cell_type": "markdown",
      "metadata": {},
      "source": [
        "Creating the Data Frame"
      ]
    },
    {
      "cell_type": "code",
      "execution_count": null,
      "metadata": {
        "id": "m6JbSNvHioNi"
      },
      "outputs": [],
      "source": [
        "for i in subjects :\n",
        "  df = filter(i)\n",
        "  x = df[modal]\n",
        "  y = df['label']\n",
        "\n",
        "  data[i] = x\n",
        "  labels[i] = y "
      ]
    },
    {
      "cell_type": "markdown",
      "metadata": {},
      "source": [
        "# Min Max Scalar \n",
        "\n",
        "Since every person may have varying level (absolute value) of a modality, thus I have used min max scalar to standardize them"
      ]
    },
    {
      "cell_type": "code",
      "execution_count": null,
      "metadata": {
        "id": "F4mbNmx-TJwG"
      },
      "outputs": [],
      "source": [
        "from sklearn.preprocessing import MinMaxScaler"
      ]
    },
    {
      "cell_type": "code",
      "execution_count": null,
      "metadata": {
        "id": "9rtHGBQfk77N"
      },
      "outputs": [],
      "source": [
        "scaler = MinMaxScaler()\n",
        "X = scaler.fit_transform(data)"
      ]
    },
    {
      "cell_type": "code",
      "execution_count": null,
      "metadata": {
        "id": "HHegBVRDpqaa"
      },
      "outputs": [],
      "source": [
        "label = labels.to_numpy()"
      ]
    },
    {
      "cell_type": "markdown",
      "metadata": {},
      "source": [
        "### Data Frame Creation"
      ]
    },
    {
      "cell_type": "code",
      "execution_count": null,
      "metadata": {
        "id": "bfcvRDqZc-tM"
      },
      "outputs": [],
      "source": [
        "def get_data(start,end) :\n",
        "\n",
        "  x = np.concatenate([X[:,i] for i in range(start, end)]) \n",
        "  y = np.concatenate([label[:,i] for i in range(start, end )])\n",
        "\n",
        "  return x,y"
      ]
    },
    {
      "cell_type": "code",
      "execution_count": null,
      "metadata": {
        "id": "8mjJTmZKdxzJ"
      },
      "outputs": [],
      "source": [
        "def create_data_df(x,y) :\n",
        "  data_df = pd.DataFrame()\n",
        "  data_df['ecg'] = x\n",
        "  data_df['label'] = y \n",
        "\n",
        "  return data_df"
      ]
    },
    {
      "cell_type": "markdown",
      "metadata": {},
      "source": [
        "# Generating Sequence of Time Windows"
      ]
    },
    {
      "cell_type": "code",
      "execution_count": null,
      "metadata": {
        "id": "tvVsOgngdpFT"
      },
      "outputs": [],
      "source": [
        "def generate_sequences(df) :\n",
        "\n",
        "  all_data = []\n",
        "  y = np.array([])\n",
        "\n",
        "  for i in range(3) :\n",
        "    \n",
        "    data = df[df['label'] == i ]\n",
        "    stop = df[df['label'] == i ].shape[0]\n",
        "    index = 1\n",
        "\n",
        "\n",
        "    # time interval\n",
        "    start = 0\n",
        "    end = 1024\n",
        "\n",
        "    sequences = []\n",
        "\n",
        "\n",
        "    while end < stop :\n",
        "      sequences.append(data['ecg'][start:end])\n",
        "      start = end\n",
        "      end += 1024\n",
        "\n",
        "    sequences = np.array(sequences)\n",
        "    ln = sequences.shape[0]\n",
        "    print(ln)\n",
        "\n",
        "    y = np.concatenate((y,np.ones(ln)*i))\n",
        "\n",
        "    if i == 0 :\n",
        "      all_data = sequences\n",
        "    else :\n",
        "      all_data = np.vstack((all_data,sequences))\n",
        "\n",
        "\n",
        "  return all_data, y"
      ]
    },
    {
      "cell_type": "code",
      "execution_count": null,
      "metadata": {
        "id": "NTw9bXTXdvfQ"
      },
      "outputs": [],
      "source": [
        "def create_data(start,end) :\n",
        "  x,y = get_data(start,end)\n",
        "  df = create_data_df(x,y)\n",
        "  all_data, y_data = generate_sequences(df)\n",
        "\n",
        "  all_data = all_data.reshape((all_data.shape[0], all_data.shape[1], 1))\n",
        "\n",
        "  return all_data,y_data"
      ]
    },
    {
      "cell_type": "code",
      "execution_count": null,
      "metadata": {
        "id": "XTSi2wT_cQNM"
      },
      "outputs": [],
      "source": [
        "import numpy as np"
      ]
    },
    {
      "cell_type": "markdown",
      "metadata": {},
      "source": [
        "# Training Testing Data"
      ]
    },
    {
      "cell_type": "code",
      "execution_count": null,
      "metadata": {
        "colab": {
          "base_uri": "https://localhost:8080/"
        },
        "id": "MwF3kCMfdvct",
        "outputId": "1e35de80-b4ce-4286-bc7e-ff0d1ac43a24"
      },
      "outputs": [],
      "source": [
        "X_train, y_train = create_data(0,6)"
      ]
    },
    {
      "cell_type": "code",
      "execution_count": null,
      "metadata": {
        "colab": {
          "base_uri": "https://localhost:8080/"
        },
        "id": "6NUy0OsXdvaF",
        "outputId": "d8b9cedd-613f-4c23-ee47-8a8066c2ead4"
      },
      "outputs": [],
      "source": [
        "X_train.shape, y_train.shape"
      ]
    },
    {
      "cell_type": "code",
      "execution_count": null,
      "metadata": {
        "id": "l45Ln9G0cX96"
      },
      "outputs": [],
      "source": [
        "import matplotlib.pyplot as plt"
      ]
    },
    {
      "cell_type": "code",
      "execution_count": null,
      "metadata": {
        "colab": {
          "base_uri": "https://localhost:8080/",
          "height": 268
        },
        "id": "sqapGFBJd1RI",
        "outputId": "2d3772a7-4dda-4387-e708-02fb570b87f3"
      },
      "outputs": [],
      "source": [
        "for i in range(5) :\n",
        "  plt.plot(X_train[i])"
      ]
    },
    {
      "cell_type": "code",
      "execution_count": null,
      "metadata": {
        "colab": {
          "base_uri": "https://localhost:8080/"
        },
        "id": "8BOnMEl_dvTK",
        "outputId": "2ed66091-814a-46ba-a79d-d957f1f1d100"
      },
      "outputs": [],
      "source": [
        "X_val, y_val = create_data(6,9)\n",
        "X_val.shape, y_val.shape"
      ]
    },
    {
      "cell_type": "code",
      "execution_count": null,
      "metadata": {
        "id": "HHEac13pgVzP"
      },
      "outputs": [],
      "source": [
        "num_classes = len(np.unique(y_train))"
      ]
    },
    {
      "cell_type": "code",
      "execution_count": null,
      "metadata": {
        "colab": {
          "base_uri": "https://localhost:8080/"
        },
        "id": "7C7-kf0rgZS0",
        "outputId": "ca4d37a1-5b28-4dd3-b230-c6226f234639"
      },
      "outputs": [],
      "source": [
        "num_classes"
      ]
    },
    {
      "cell_type": "markdown",
      "metadata": {},
      "source": [
        "#### Shuffling Train data"
      ]
    },
    {
      "cell_type": "code",
      "execution_count": null,
      "metadata": {
        "id": "A3bMxNUPge4j"
      },
      "outputs": [],
      "source": [
        "idx = np.random.permutation(len(X_train))\n",
        "X_train = X_train[idx]\n",
        "y_train = y_train[idx]"
      ]
    },
    {
      "cell_type": "code",
      "execution_count": null,
      "metadata": {
        "id": "p95XW48ilhZz"
      },
      "outputs": [],
      "source": [
        "from tensorflow import keras"
      ]
    },
    {
      "cell_type": "markdown",
      "metadata": {},
      "source": [
        "# Model \n",
        "\n",
        "## Architecture"
      ]
    },
    {
      "cell_type": "code",
      "execution_count": null,
      "metadata": {
        "id": "ezUrQv-Agmx3"
      },
      "outputs": [],
      "source": [
        "def make_model(input_shape):\n",
        "    input_layer = keras.layers.Input(input_shape)\n",
        "\n",
        "    norml = keras.layers.BatchNormalization()(input_layer)\n",
        "\n",
        "\n",
        "    conv1 = keras.layers.Conv1D(filters=64, kernel_size=3, padding=\"same\")(norml)\n",
        "    conv1 = keras.layers.BatchNormalization()(conv1)\n",
        "    conv1 = keras.layers.ReLU()(conv1)\n",
        "\n",
        "    drop1 = keras.layers.Dropout(.2)(conv1)\n",
        "\n",
        "\n",
        "    conv2 = keras.layers.Conv1D(filters=64, kernel_size=3, padding=\"same\")(drop1)\n",
        "    conv2 = keras.layers.BatchNormalization()(conv2)\n",
        "    conv2 = keras.layers.ReLU()(conv2)\n",
        "\n",
        "    drop2 = keras.layers.Dropout(.2)(conv2)\n",
        "\n",
        "    conv3 = keras.layers.Conv1D(filters=64, kernel_size=3, padding=\"same\")(drop2)\n",
        "    conv3 = keras.layers.BatchNormalization()(conv3)\n",
        "    conv3 = keras.layers.ReLU()(conv3)\n",
        "\n",
        "    drop3 = keras.layers.Dropout(.2)(conv3)\n",
        "\n",
        "    gap = keras.layers.GlobalAveragePooling1D()(drop3)\n",
        "\n",
        "    output_layer = keras.layers.Dense(num_classes, activation=\"softmax\")(gap)\n",
        "\n",
        "    return keras.models.Model(inputs=input_layer, outputs=output_layer)\n",
        "\n",
        "\n",
        "model = make_model(input_shape=X_train.shape[1:])\n",
        "# keras.utils.plot_model(model, show_shapes=True)\n"
      ]
    },
    {
      "cell_type": "markdown",
      "metadata": {},
      "source": [
        "## Callbacks & LR Schedular for better performance"
      ]
    },
    {
      "cell_type": "code",
      "execution_count": null,
      "metadata": {
        "colab": {
          "base_uri": "https://localhost:8080/"
        },
        "id": "UDhExuT4gmvq",
        "outputId": "5386a740-31cd-4e8b-c141-644912d015e6"
      },
      "outputs": [],
      "source": [
        "epochs = 500\n",
        "batch_size = 32\n",
        "\n",
        "callbacks = [\n",
        "    keras.callbacks.ModelCheckpoint(\n",
        "        \"best_model.h5\", save_best_only=True, monitor=\"val_loss\"\n",
        "    ),\n",
        "    keras.callbacks.ReduceLROnPlateau(\n",
        "        monitor=\"val_loss\", factor=0.5, patience=20, min_lr=0.0001\n",
        "    ),\n",
        "    keras.callbacks.EarlyStopping(monitor=\"val_loss\", patience=50, verbose=1),\n",
        "]\n",
        "model.compile(\n",
        "    optimizer=\"adam\",\n",
        "    loss=\"sparse_categorical_crossentropy\",\n",
        "    metrics=[\"sparse_categorical_accuracy\"],\n",
        ")\n",
        "history = model.fit(\n",
        "    X_train,\n",
        "    y_train,\n",
        "    batch_size=batch_size,\n",
        "    epochs=epochs,\n",
        "    callbacks=callbacks,\n",
        "    validation_data = (X_val,y_val),\n",
        "    verbose=1,\n",
        ")\n"
      ]
    },
    {
      "cell_type": "markdown",
      "metadata": {},
      "source": [
        "Loading the best model"
      ]
    },
    {
      "cell_type": "code",
      "execution_count": null,
      "metadata": {
        "id": "ndIO4nEaiw9u"
      },
      "outputs": [],
      "source": [
        "model = keras.models.load_model(\"best_model.h5\")"
      ]
    },
    {
      "cell_type": "code",
      "execution_count": null,
      "metadata": {
        "colab": {
          "base_uri": "https://localhost:8080/"
        },
        "id": "z-4oB_RverLk",
        "outputId": "aecc5df5-1629-42af-8c58-3e88ee2a039a"
      },
      "outputs": [],
      "source": [
        "x_test, y_test = create_data(9,15)\n",
        "x_test.shape, y_test.shape"
      ]
    },
    {
      "cell_type": "code",
      "execution_count": null,
      "metadata": {
        "colab": {
          "base_uri": "https://localhost:8080/"
        },
        "id": "vVtfnP2qi6FG",
        "outputId": "1b3b0a6d-6809-48aa-829a-29d04120ed57"
      },
      "outputs": [],
      "source": [
        "test_loss, test_acc = model.evaluate(x_test, y_test)\n",
        "\n",
        "print(\"Test accuracy\", test_acc)\n",
        "print(\"Test loss\", test_loss)"
      ]
    },
    {
      "cell_type": "code",
      "execution_count": null,
      "metadata": {
        "colab": {
          "base_uri": "https://localhost:8080/",
          "height": 302
        },
        "id": "t5vyShnqjSpG",
        "outputId": "06db118f-f5e9-4e75-82d3-f5eea8305a1a"
      },
      "outputs": [],
      "source": [
        "metric = \"sparse_categorical_accuracy\"\n",
        "plt.figure()\n",
        "plt.plot(history.history[metric])\n",
        "plt.plot(history.history[\"val_\" + metric])\n",
        "plt.title(\"model \" + metric)\n",
        "plt.ylabel(metric, fontsize=\"large\")\n",
        "plt.xlabel(\"epoch\", fontsize=\"large\")\n",
        "plt.legend([\"train\", \"val\"], loc=\"best\")\n",
        "plt.show()\n",
        "plt.close()\n"
      ]
    }
  ],
  "metadata": {
    "accelerator": "GPU",
    "colab": {
      "collapsed_sections": [],
      "name": "ECG_HackX.ipynb",
      "provenance": []
    },
    "kernelspec": {
      "display_name": "Python 3",
      "name": "python3"
    },
    "language_info": {
      "name": "python"
    }
  },
  "nbformat": 4,
  "nbformat_minor": 0
}
