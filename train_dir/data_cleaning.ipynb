{
 "cells": [
  {
   "cell_type": "markdown",
   "metadata": {},
   "source": [
    "# Data Cleaning \n",
    "\n",
    "The WESAD Dataset is huge (12GB). But all of it is not useful. As mentioned in the original paper some part of the signal, that have labels > 3 are not important for stress data or are due to device malfuction. \n",
    "\n",
    "In this notebook I have cleaned the dataset to only the relevant that is needed for this project. This reduces the dimensionality of the dataset and also ensures better results.\n",
    "\n",
    "I have further done certain analysis on the data, which are also shown here"
   ]
  },
  {
   "cell_type": "code",
   "execution_count": 1,
   "id": "8cb504de",
   "metadata": {
    "_cell_guid": "b1076dfc-b9ad-4769-8c92-a6c4dae69d19",
    "_uuid": "8f2839f25d086af736a60e9eeb907d3b93b6e0e5",
    "execution": {
     "iopub.execute_input": "2021-08-27T16:23:32.351294Z",
     "iopub.status.busy": "2021-08-27T16:23:32.347266Z",
     "iopub.status.idle": "2021-08-27T16:23:32.354714Z",
     "shell.execute_reply": "2021-08-27T16:23:32.353933Z",
     "shell.execute_reply.started": "2021-08-25T19:06:02.935137Z"
    },
    "papermill": {
     "duration": 0.123993,
     "end_time": "2021-08-27T16:23:32.354902",
     "exception": false,
     "start_time": "2021-08-27T16:23:32.230909",
     "status": "completed"
    },
    "tags": []
   },
   "outputs": [],
   "source": [
    "import numpy as np\n",
    "import pandas as pd \n",
    "import pickle \n",
    "import gc\n",
    "import os\n",
    "import ctypes"
   ]
  },
  {
   "cell_type": "markdown",
   "id": "4c83f089",
   "metadata": {
    "papermill": {
     "duration": 0.105177,
     "end_time": "2021-08-27T16:23:32.567318",
     "exception": false,
     "start_time": "2021-08-27T16:23:32.462141",
     "status": "completed"
    },
    "tags": []
   },
   "source": [
    "# User Input\n",
    "### Change the below cell and input the number of the Subject you want\n",
    "\n",
    "There were 17 participants in the test, but unfortunately device malfunctioned for two of them. So to get the neat and useful data of a paticular subject, set the file number accordingly. \n",
    "From \n",
    "[2,3,4,5,6,7,8,9,10,11,13,14,15,16,17]"
   ]
  },
  {
   "cell_type": "code",
   "execution_count": 2,
   "id": "af23897e",
   "metadata": {
    "execution": {
     "iopub.execute_input": "2021-08-27T16:23:32.783704Z",
     "iopub.status.busy": "2021-08-27T16:23:32.782824Z",
     "iopub.status.idle": "2021-08-27T16:23:32.787253Z",
     "shell.execute_reply": "2021-08-27T16:23:32.787869Z",
     "shell.execute_reply.started": "2021-08-25T19:06:02.949684Z"
    },
    "papermill": {
     "duration": 0.113013,
     "end_time": "2021-08-27T16:23:32.788082",
     "exception": false,
     "start_time": "2021-08-27T16:23:32.675069",
     "status": "completed"
    },
    "tags": []
   },
   "outputs": [],
   "source": [
    "file_num:int = 8"
   ]
  },
  {
   "cell_type": "markdown",
   "metadata": {},
   "source": [
    "Change the path below as well"
   ]
  },
  {
   "cell_type": "code",
   "execution_count": 3,
   "id": "c594765c",
   "metadata": {
    "execution": {
     "iopub.execute_input": "2021-08-27T16:23:33.004230Z",
     "iopub.status.busy": "2021-08-27T16:23:33.003510Z",
     "iopub.status.idle": "2021-08-27T16:23:33.007258Z",
     "shell.execute_reply": "2021-08-27T16:23:33.007903Z",
     "shell.execute_reply.started": "2021-08-25T19:06:02.962527Z"
    },
    "papermill": {
     "duration": 0.113901,
     "end_time": "2021-08-27T16:23:33.008124",
     "exception": false,
     "start_time": "2021-08-27T16:23:32.894223",
     "status": "completed"
    },
    "tags": []
   },
   "outputs": [],
   "source": [
    "filename_ = \"../input/wesad-stress-detection/PKL Datas/S{}.pkl\".format(file_num)"
   ]
  },
  {
   "cell_type": "code",
   "execution_count": 4,
   "id": "bea9b4af",
   "metadata": {
    "execution": {
     "iopub.execute_input": "2021-08-27T16:23:33.223468Z",
     "iopub.status.busy": "2021-08-27T16:23:33.222605Z",
     "iopub.status.idle": "2021-08-27T16:23:33.229478Z",
     "shell.execute_reply": "2021-08-27T16:23:33.228580Z",
     "shell.execute_reply.started": "2021-08-25T19:06:02.980185Z"
    },
    "papermill": {
     "duration": 0.116768,
     "end_time": "2021-08-27T16:23:33.229686",
     "exception": false,
     "start_time": "2021-08-27T16:23:33.112918",
     "status": "completed"
    },
    "tags": []
   },
   "outputs": [
    {
     "name": "stdout",
     "output_type": "stream",
     "text": [
      "8\n"
     ]
    }
   ],
   "source": [
    "print(file_num)"
   ]
  },
  {
   "cell_type": "code",
   "execution_count": 5,
   "id": "da445661",
   "metadata": {
    "execution": {
     "iopub.execute_input": "2021-08-27T16:23:33.451034Z",
     "iopub.status.busy": "2021-08-27T16:23:33.450093Z",
     "iopub.status.idle": "2021-08-27T16:23:33.453431Z",
     "shell.execute_reply": "2021-08-27T16:23:33.452824Z",
     "shell.execute_reply.started": "2021-08-25T19:06:02.998899Z"
    },
    "papermill": {
     "duration": 0.117672,
     "end_time": "2021-08-27T16:23:33.453594",
     "exception": false,
     "start_time": "2021-08-27T16:23:33.335922",
     "status": "completed"
    },
    "tags": []
   },
   "outputs": [],
   "source": [
    "def create_dataframe(filename):\n",
    "    \"It returns a pandas Dataframe consisting of chest data\"\n",
    "    \n",
    "    # reading the data\n",
    "    infile = open(filename,'rb')\n",
    "    new_dict = pickle.load(infile, encoding= 'latin1')\n",
    "    infile.close()\n",
    "    \n",
    "    # \n",
    "    data = pd.DataFrame()\n",
    "\n",
    "\n",
    "    # Acceleration data        \n",
    "    data['ACCX'] = new_dict['signal']['chest']['ACC'][:,0]\n",
    "    data['ACCY'] = new_dict['signal']['chest']['ACC'][:,1]\n",
    "    data['ACCZ'] = new_dict['signal']['chest']['ACC'][:,2]\n",
    "\n",
    "\n",
    "    # Reading input data\n",
    "    for i in new_dict['signal']['chest'].keys() :\n",
    "        if i != 'ACC' :\n",
    "            data[i] = new_dict['signal']['chest'][i]   \n",
    "\n",
    "    # labels data\n",
    "    data['label'] = new_dict['label']\n",
    "    \n",
    "    return data  "
   ]
  },
  {
   "cell_type": "code",
   "execution_count": 6,
   "id": "768ad781",
   "metadata": {
    "execution": {
     "iopub.execute_input": "2021-08-27T16:23:33.668774Z",
     "iopub.status.busy": "2021-08-27T16:23:33.667946Z",
     "iopub.status.idle": "2021-08-27T16:23:47.237928Z",
     "shell.execute_reply": "2021-08-27T16:23:47.237293Z",
     "shell.execute_reply.started": "2021-08-25T19:06:03.01433Z"
    },
    "papermill": {
     "duration": 13.680124,
     "end_time": "2021-08-27T16:23:47.238130",
     "exception": false,
     "start_time": "2021-08-27T16:23:33.558006",
     "status": "completed"
    },
    "scrolled": true,
    "tags": []
   },
   "outputs": [],
   "source": [
    "data = create_dataframe(filename_)"
   ]
  },
  {
   "cell_type": "code",
   "execution_count": 8,
   "id": "8b826fe6",
   "metadata": {
    "execution": {
     "iopub.execute_input": "2021-08-27T16:23:48.422634Z",
     "iopub.status.busy": "2021-08-27T16:23:48.421554Z",
     "iopub.status.idle": "2021-08-27T16:23:52.708420Z",
     "shell.execute_reply": "2021-08-27T16:23:52.707741Z",
     "shell.execute_reply.started": "2021-08-25T19:06:16.747907Z"
    },
    "papermill": {
     "duration": 4.404172,
     "end_time": "2021-08-27T16:23:52.708602",
     "exception": false,
     "start_time": "2021-08-27T16:23:48.304430",
     "status": "completed"
    },
    "tags": []
   },
   "outputs": [],
   "source": [
    "import pandas as pd\n",
    "import numpy as np\n",
    "\n",
    "\n",
    "import seaborn as sns\n",
    "from pylab import rcParams\n",
    "import matplotlib.pyplot as plt\n",
    "from matplotlib import rc \n",
    "from matplotlib.ticker import MaxNLocator\n",
    "\n",
    "from sklearn.model_selection import train_test_split\n",
    "from sklearn.preprocessing import LabelEncoder"
   ]
  },
  {
   "cell_type": "code",
   "execution_count": 10,
   "id": "1c0dea39",
   "metadata": {
    "execution": {
     "iopub.execute_input": "2021-08-27T16:23:53.178658Z",
     "iopub.status.busy": "2021-08-27T16:23:53.177608Z",
     "iopub.status.idle": "2021-08-27T16:23:53.190133Z",
     "shell.execute_reply": "2021-08-27T16:23:53.189369Z",
     "shell.execute_reply.started": "2021-08-25T19:06:16.78953Z"
    },
    "papermill": {
     "duration": 0.140641,
     "end_time": "2021-08-27T16:23:53.190304",
     "exception": false,
     "start_time": "2021-08-27T16:23:53.049663",
     "status": "completed"
    },
    "tags": []
   },
   "outputs": [],
   "source": [
    "%matplotlib inline\n",
    "%config InlineBackend.figure_format = 'retina'\n",
    "\n",
    "sns.set(style='whitegrid', palette='muted', font_scale=1.2)\n",
    "\n",
    "HAPPY_COLORS_PALETTE = ['#01BEFE', '#FFDD00', '#FF7D00', '#FF006D', '#ADFF02', '#8F00FF']\n",
    "\n",
    "sns.set_palette(sns.color_palette(HAPPY_COLORS_PALETTE))\n",
    "\n",
    "rcParams['figure.figsize'] = 16,10"
   ]
  },
  {
   "cell_type": "code",
   "execution_count": 11,
   "id": "cb7b0089",
   "metadata": {
    "execution": {
     "iopub.execute_input": "2021-08-27T16:23:53.409426Z",
     "iopub.status.busy": "2021-08-27T16:23:53.408324Z",
     "iopub.status.idle": "2021-08-27T16:23:53.433068Z",
     "shell.execute_reply": "2021-08-27T16:23:53.432448Z",
     "shell.execute_reply.started": "2021-08-25T19:06:16.823381Z"
    },
    "papermill": {
     "duration": 0.137491,
     "end_time": "2021-08-27T16:23:53.433229",
     "exception": false,
     "start_time": "2021-08-27T16:23:53.295738",
     "status": "completed"
    },
    "tags": []
   },
   "outputs": [
    {
     "data": {
      "text/html": [
       "<div>\n",
       "<style scoped>\n",
       "    .dataframe tbody tr th:only-of-type {\n",
       "        vertical-align: middle;\n",
       "    }\n",
       "\n",
       "    .dataframe tbody tr th {\n",
       "        vertical-align: top;\n",
       "    }\n",
       "\n",
       "    .dataframe thead th {\n",
       "        text-align: right;\n",
       "    }\n",
       "</style>\n",
       "<table border=\"1\" class=\"dataframe\">\n",
       "  <thead>\n",
       "    <tr style=\"text-align: right;\">\n",
       "      <th></th>\n",
       "      <th>ACCX</th>\n",
       "      <th>ACCY</th>\n",
       "      <th>ACCZ</th>\n",
       "      <th>ECG</th>\n",
       "      <th>EMG</th>\n",
       "      <th>EDA</th>\n",
       "      <th>Temp</th>\n",
       "      <th>Resp</th>\n",
       "      <th>label</th>\n",
       "    </tr>\n",
       "  </thead>\n",
       "  <tbody>\n",
       "    <tr>\n",
       "      <th>0</th>\n",
       "      <td>0.8746</td>\n",
       "      <td>-0.0232</td>\n",
       "      <td>0.2762</td>\n",
       "      <td>0.169510</td>\n",
       "      <td>-0.005356</td>\n",
       "      <td>4.368591</td>\n",
       "      <td>34.264893</td>\n",
       "      <td>-1.718140</td>\n",
       "      <td>0</td>\n",
       "    </tr>\n",
       "    <tr>\n",
       "      <th>1</th>\n",
       "      <td>0.8802</td>\n",
       "      <td>-0.0114</td>\n",
       "      <td>0.2638</td>\n",
       "      <td>0.166397</td>\n",
       "      <td>0.009933</td>\n",
       "      <td>4.372025</td>\n",
       "      <td>34.280182</td>\n",
       "      <td>-1.716614</td>\n",
       "      <td>0</td>\n",
       "    </tr>\n",
       "    <tr>\n",
       "      <th>2</th>\n",
       "      <td>0.8870</td>\n",
       "      <td>0.0002</td>\n",
       "      <td>0.2382</td>\n",
       "      <td>0.163376</td>\n",
       "      <td>0.014786</td>\n",
       "      <td>4.381943</td>\n",
       "      <td>34.263397</td>\n",
       "      <td>-1.705933</td>\n",
       "      <td>0</td>\n",
       "    </tr>\n",
       "    <tr>\n",
       "      <th>3</th>\n",
       "      <td>0.8954</td>\n",
       "      <td>0.0176</td>\n",
       "      <td>0.2030</td>\n",
       "      <td>0.153259</td>\n",
       "      <td>0.015884</td>\n",
       "      <td>4.365921</td>\n",
       "      <td>34.271027</td>\n",
       "      <td>-1.710510</td>\n",
       "      <td>0</td>\n",
       "    </tr>\n",
       "    <tr>\n",
       "      <th>4</th>\n",
       "      <td>0.9002</td>\n",
       "      <td>0.0326</td>\n",
       "      <td>0.1486</td>\n",
       "      <td>0.147629</td>\n",
       "      <td>0.028381</td>\n",
       "      <td>4.366684</td>\n",
       "      <td>34.261841</td>\n",
       "      <td>-1.713562</td>\n",
       "      <td>0</td>\n",
       "    </tr>\n",
       "  </tbody>\n",
       "</table>\n",
       "</div>"
      ],
      "text/plain": [
       "     ACCX    ACCY    ACCZ       ECG       EMG       EDA       Temp      Resp  \\\n",
       "0  0.8746 -0.0232  0.2762  0.169510 -0.005356  4.368591  34.264893 -1.718140   \n",
       "1  0.8802 -0.0114  0.2638  0.166397  0.009933  4.372025  34.280182 -1.716614   \n",
       "2  0.8870  0.0002  0.2382  0.163376  0.014786  4.381943  34.263397 -1.705933   \n",
       "3  0.8954  0.0176  0.2030  0.153259  0.015884  4.365921  34.271027 -1.710510   \n",
       "4  0.9002  0.0326  0.1486  0.147629  0.028381  4.366684  34.261841 -1.713562   \n",
       "\n",
       "   label  \n",
       "0      0  \n",
       "1      0  \n",
       "2      0  \n",
       "3      0  \n",
       "4      0  "
      ]
     },
     "execution_count": 11,
     "metadata": {},
     "output_type": "execute_result"
    }
   ],
   "source": [
    "data.head()"
   ]
  },
  {
   "cell_type": "code",
   "execution_count": 12,
   "id": "20e9c616",
   "metadata": {
    "execution": {
     "iopub.execute_input": "2021-08-27T16:23:53.657094Z",
     "iopub.status.busy": "2021-08-27T16:23:53.656032Z",
     "iopub.status.idle": "2021-08-27T16:23:53.663677Z",
     "shell.execute_reply": "2021-08-27T16:23:53.662657Z",
     "shell.execute_reply.started": "2021-08-25T19:06:16.854418Z"
    },
    "papermill": {
     "duration": 0.124801,
     "end_time": "2021-08-27T16:23:53.663933",
     "exception": false,
     "start_time": "2021-08-27T16:23:53.539132",
     "status": "completed"
    },
    "tags": []
   },
   "outputs": [
    {
     "data": {
      "text/plain": [
       "Index(['ACCX', 'ACCY', 'ACCZ', 'ECG', 'EMG', 'EDA', 'Temp', 'Resp', 'label'], dtype='object')"
      ]
     },
     "execution_count": 12,
     "metadata": {},
     "output_type": "execute_result"
    }
   ],
   "source": [
    "data.columns"
   ]
  },
  {
   "cell_type": "code",
   "execution_count": 13,
   "id": "5408e052",
   "metadata": {
    "execution": {
     "iopub.execute_input": "2021-08-27T16:23:53.921823Z",
     "iopub.status.busy": "2021-08-27T16:23:53.918499Z",
     "iopub.status.idle": "2021-08-27T16:23:55.386826Z",
     "shell.execute_reply": "2021-08-27T16:23:55.387386Z",
     "shell.execute_reply.started": "2021-08-25T19:06:16.877649Z"
    },
    "papermill": {
     "duration": 1.58083,
     "end_time": "2021-08-27T16:23:55.387587",
     "exception": false,
     "start_time": "2021-08-27T16:23:53.806757",
     "status": "completed"
    },
    "tags": []
   },
   "outputs": [
    {
     "data": {
      "text/html": [
       "<div>\n",
       "<style scoped>\n",
       "    .dataframe tbody tr th:only-of-type {\n",
       "        vertical-align: middle;\n",
       "    }\n",
       "\n",
       "    .dataframe tbody tr th {\n",
       "        vertical-align: top;\n",
       "    }\n",
       "\n",
       "    .dataframe thead th {\n",
       "        text-align: right;\n",
       "    }\n",
       "</style>\n",
       "<table border=\"1\" class=\"dataframe\">\n",
       "  <thead>\n",
       "    <tr style=\"text-align: right;\">\n",
       "      <th></th>\n",
       "      <th>ACCX</th>\n",
       "      <th>ACCY</th>\n",
       "      <th>ACCZ</th>\n",
       "      <th>ECG</th>\n",
       "      <th>EMG</th>\n",
       "      <th>EDA</th>\n",
       "      <th>Temp</th>\n",
       "      <th>Resp</th>\n",
       "      <th>label</th>\n",
       "    </tr>\n",
       "  </thead>\n",
       "  <tbody>\n",
       "    <tr>\n",
       "      <th>count</th>\n",
       "      <td>3.826200e+06</td>\n",
       "      <td>3.826200e+06</td>\n",
       "      <td>3.826200e+06</td>\n",
       "      <td>3.826200e+06</td>\n",
       "      <td>3.826200e+06</td>\n",
       "      <td>3.826200e+06</td>\n",
       "      <td>3.826200e+06</td>\n",
       "      <td>3.826200e+06</td>\n",
       "      <td>3.826200e+06</td>\n",
       "    </tr>\n",
       "    <tr>\n",
       "      <th>mean</th>\n",
       "      <td>8.247114e-01</td>\n",
       "      <td>-8.770056e-02</td>\n",
       "      <td>-2.707233e-01</td>\n",
       "      <td>1.477229e-03</td>\n",
       "      <td>-2.612202e-03</td>\n",
       "      <td>3.782816e+00</td>\n",
       "      <td>3.365367e+01</td>\n",
       "      <td>6.716237e-02</td>\n",
       "      <td>1.412002e+00</td>\n",
       "    </tr>\n",
       "    <tr>\n",
       "      <th>std</th>\n",
       "      <td>8.993059e-02</td>\n",
       "      <td>1.343166e-01</td>\n",
       "      <td>2.936610e-01</td>\n",
       "      <td>2.663206e-01</td>\n",
       "      <td>1.934570e-02</td>\n",
       "      <td>1.922920e-01</td>\n",
       "      <td>1.397702e+00</td>\n",
       "      <td>3.574538e+00</td>\n",
       "      <td>1.635803e+00</td>\n",
       "    </tr>\n",
       "    <tr>\n",
       "      <th>min</th>\n",
       "      <td>-4.734000e-01</td>\n",
       "      <td>-7.758000e-01</td>\n",
       "      <td>-1.798400e+00</td>\n",
       "      <td>-1.440353e+00</td>\n",
       "      <td>-1.250198e+00</td>\n",
       "      <td>3.295898e+00</td>\n",
       "      <td>3.363071e+01</td>\n",
       "      <td>-2.435913e+01</td>\n",
       "      <td>0.000000e+00</td>\n",
       "    </tr>\n",
       "    <tr>\n",
       "      <th>25%</th>\n",
       "      <td>7.802000e-01</td>\n",
       "      <td>-1.796000e-01</td>\n",
       "      <td>-4.914000e-01</td>\n",
       "      <td>-7.704163e-02</td>\n",
       "      <td>-1.002502e-02</td>\n",
       "      <td>3.669357e+00</td>\n",
       "      <td>3.486157e+01</td>\n",
       "      <td>-1.795959e+00</td>\n",
       "      <td>0.000000e+00</td>\n",
       "    </tr>\n",
       "    <tr>\n",
       "      <th>50%</th>\n",
       "      <td>8.426000e-01</td>\n",
       "      <td>-7.059997e-02</td>\n",
       "      <td>-3.070000e-01</td>\n",
       "      <td>-1.789856e-02</td>\n",
       "      <td>-2.059937e-03</td>\n",
       "      <td>3.759384e+00</td>\n",
       "      <td>3.501736e+01</td>\n",
       "      <td>-7.781982e-02</td>\n",
       "      <td>1.000000e+00</td>\n",
       "    </tr>\n",
       "    <tr>\n",
       "      <th>75%</th>\n",
       "      <td>8.970000e-01</td>\n",
       "      <td>1.799941e-03</td>\n",
       "      <td>-4.180002e-02</td>\n",
       "      <td>1.762390e-02</td>\n",
       "      <td>5.081177e-03</td>\n",
       "      <td>3.854752e+00</td>\n",
       "      <td>3.520135e+01</td>\n",
       "      <td>1.976013e+00</td>\n",
       "      <td>2.000000e+00</td>\n",
       "    </tr>\n",
       "    <tr>\n",
       "      <th>max</th>\n",
       "      <td>2.328600e+00</td>\n",
       "      <td>6.408000e-01</td>\n",
       "      <td>2.261800e+00</td>\n",
       "      <td>1.499954e+00</td>\n",
       "      <td>1.031433e+00</td>\n",
       "      <td>5.717850e+00</td>\n",
       "      <td>3.577652e+01</td>\n",
       "      <td>2.261353e+01</td>\n",
       "      <td>7.000000e+00</td>\n",
       "    </tr>\n",
       "  </tbody>\n",
       "</table>\n",
       "</div>"
      ],
      "text/plain": [
       "               ACCX          ACCY          ACCZ           ECG           EMG  \\\n",
       "count  3.826200e+06  3.826200e+06  3.826200e+06  3.826200e+06  3.826200e+06   \n",
       "mean   8.247114e-01 -8.770056e-02 -2.707233e-01  1.477229e-03 -2.612202e-03   \n",
       "std    8.993059e-02  1.343166e-01  2.936610e-01  2.663206e-01  1.934570e-02   \n",
       "min   -4.734000e-01 -7.758000e-01 -1.798400e+00 -1.440353e+00 -1.250198e+00   \n",
       "25%    7.802000e-01 -1.796000e-01 -4.914000e-01 -7.704163e-02 -1.002502e-02   \n",
       "50%    8.426000e-01 -7.059997e-02 -3.070000e-01 -1.789856e-02 -2.059937e-03   \n",
       "75%    8.970000e-01  1.799941e-03 -4.180002e-02  1.762390e-02  5.081177e-03   \n",
       "max    2.328600e+00  6.408000e-01  2.261800e+00  1.499954e+00  1.031433e+00   \n",
       "\n",
       "                EDA          Temp          Resp         label  \n",
       "count  3.826200e+06  3.826200e+06  3.826200e+06  3.826200e+06  \n",
       "mean   3.782816e+00  3.365367e+01  6.716237e-02  1.412002e+00  \n",
       "std    1.922920e-01  1.397702e+00  3.574538e+00  1.635803e+00  \n",
       "min    3.295898e+00  3.363071e+01 -2.435913e+01  0.000000e+00  \n",
       "25%    3.669357e+00  3.486157e+01 -1.795959e+00  0.000000e+00  \n",
       "50%    3.759384e+00  3.501736e+01 -7.781982e-02  1.000000e+00  \n",
       "75%    3.854752e+00  3.520135e+01  1.976013e+00  2.000000e+00  \n",
       "max    5.717850e+00  3.577652e+01  2.261353e+01  7.000000e+00  "
      ]
     },
     "execution_count": 13,
     "metadata": {},
     "output_type": "execute_result"
    }
   ],
   "source": [
    "data.describe()"
   ]
  },
  {
   "cell_type": "code",
   "execution_count": 14,
   "id": "d7e583cf",
   "metadata": {
    "execution": {
     "iopub.execute_input": "2021-08-27T16:23:55.634166Z",
     "iopub.status.busy": "2021-08-27T16:23:55.633376Z",
     "iopub.status.idle": "2021-08-27T16:23:56.518137Z",
     "shell.execute_reply": "2021-08-27T16:23:56.518741Z",
     "shell.execute_reply.started": "2021-08-25T19:06:18.078381Z"
    },
    "papermill": {
     "duration": 1.019817,
     "end_time": "2021-08-27T16:23:56.518949",
     "exception": false,
     "start_time": "2021-08-27T16:23:55.499132",
     "status": "completed"
    },
    "tags": []
   },
   "outputs": [
    {
     "data": {
      "image/png": "[encoded data removed]",
      "text/plain": [
       "<Figure size 1152x720 with 1 Axes>"
      ]
     },
     "metadata": {
      "image/png": {
       "height": 596,
       "width": 931
      }
     },
     "output_type": "display_data"
    }
   ],
   "source": [
    "plt.plot(data['label'])\n",
    "plt.show()"
   ]
  },
  {
   "cell_type": "code",
   "execution_count": 15,
   "id": "20027621",
   "metadata": {
    "execution": {
     "iopub.execute_input": "2021-08-27T16:23:56.747998Z",
     "iopub.status.busy": "2021-08-27T16:23:56.747308Z",
     "iopub.status.idle": "2021-08-27T16:23:57.117391Z",
     "shell.execute_reply": "2021-08-27T16:23:57.116707Z",
     "shell.execute_reply.started": "2021-08-25T19:06:18.869467Z"
    },
    "papermill": {
     "duration": 0.486874,
     "end_time": "2021-08-27T16:23:57.117545",
     "exception": false,
     "start_time": "2021-08-27T16:23:56.630671",
     "status": "completed"
    },
    "tags": []
   },
   "outputs": [
    {
     "data": {
      "text/html": [
       "<div>\n",
       "<style scoped>\n",
       "    .dataframe tbody tr th:only-of-type {\n",
       "        vertical-align: middle;\n",
       "    }\n",
       "\n",
       "    .dataframe tbody tr th {\n",
       "        vertical-align: top;\n",
       "    }\n",
       "\n",
       "    .dataframe thead th {\n",
       "        text-align: right;\n",
       "    }\n",
       "</style>\n",
       "<table border=\"1\" class=\"dataframe\">\n",
       "  <thead>\n",
       "    <tr style=\"text-align: right;\">\n",
       "      <th></th>\n",
       "      <th>ACCX</th>\n",
       "      <th>ACCY</th>\n",
       "      <th>ACCZ</th>\n",
       "      <th>ECG</th>\n",
       "      <th>EMG</th>\n",
       "      <th>EDA</th>\n",
       "      <th>Temp</th>\n",
       "      <th>Resp</th>\n",
       "      <th>label</th>\n",
       "    </tr>\n",
       "  </thead>\n",
       "  <tbody>\n",
       "    <tr>\n",
       "      <th>count</th>\n",
       "      <td>818300.000000</td>\n",
       "      <td>818300.000000</td>\n",
       "      <td>818300.000000</td>\n",
       "      <td>818300.000000</td>\n",
       "      <td>818300.000000</td>\n",
       "      <td>818300.000000</td>\n",
       "      <td>818300.000000</td>\n",
       "      <td>818300.000000</td>\n",
       "      <td>818300.0</td>\n",
       "    </tr>\n",
       "    <tr>\n",
       "      <th>mean</th>\n",
       "      <td>0.753142</td>\n",
       "      <td>-0.166138</td>\n",
       "      <td>-0.538999</td>\n",
       "      <td>0.001570</td>\n",
       "      <td>-0.002449</td>\n",
       "      <td>3.874559</td>\n",
       "      <td>34.818989</td>\n",
       "      <td>0.072360</td>\n",
       "      <td>1.0</td>\n",
       "    </tr>\n",
       "    <tr>\n",
       "      <th>std</th>\n",
       "      <td>0.069864</td>\n",
       "      <td>0.029747</td>\n",
       "      <td>0.115693</td>\n",
       "      <td>0.248329</td>\n",
       "      <td>0.013831</td>\n",
       "      <td>0.094358</td>\n",
       "      <td>0.214129</td>\n",
       "      <td>1.546406</td>\n",
       "      <td>0.0</td>\n",
       "    </tr>\n",
       "    <tr>\n",
       "      <th>min</th>\n",
       "      <td>0.528200</td>\n",
       "      <td>-0.611800</td>\n",
       "      <td>-0.885000</td>\n",
       "      <td>-1.101654</td>\n",
       "      <td>-0.402145</td>\n",
       "      <td>3.569412</td>\n",
       "      <td>34.185547</td>\n",
       "      <td>-9.318542</td>\n",
       "      <td>1.0</td>\n",
       "    </tr>\n",
       "    <tr>\n",
       "      <th>25%</th>\n",
       "      <td>0.676600</td>\n",
       "      <td>-0.186200</td>\n",
       "      <td>-0.660400</td>\n",
       "      <td>-0.049210</td>\n",
       "      <td>-0.009705</td>\n",
       "      <td>3.803635</td>\n",
       "      <td>34.612518</td>\n",
       "      <td>-0.929260</td>\n",
       "      <td>1.0</td>\n",
       "    </tr>\n",
       "    <tr>\n",
       "      <th>50%</th>\n",
       "      <td>0.771000</td>\n",
       "      <td>-0.153800</td>\n",
       "      <td>-0.529400</td>\n",
       "      <td>-0.019455</td>\n",
       "      <td>-0.001968</td>\n",
       "      <td>3.857803</td>\n",
       "      <td>34.835419</td>\n",
       "      <td>-0.025940</td>\n",
       "      <td>1.0</td>\n",
       "    </tr>\n",
       "    <tr>\n",
       "      <th>75%</th>\n",
       "      <td>0.811000</td>\n",
       "      <td>-0.144800</td>\n",
       "      <td>-0.453800</td>\n",
       "      <td>0.006409</td>\n",
       "      <td>0.005356</td>\n",
       "      <td>3.898621</td>\n",
       "      <td>34.971069</td>\n",
       "      <td>0.788879</td>\n",
       "      <td>1.0</td>\n",
       "    </tr>\n",
       "    <tr>\n",
       "      <th>max</th>\n",
       "      <td>1.050400</td>\n",
       "      <td>-0.038800</td>\n",
       "      <td>0.157000</td>\n",
       "      <td>1.499954</td>\n",
       "      <td>0.251083</td>\n",
       "      <td>4.249573</td>\n",
       "      <td>35.227661</td>\n",
       "      <td>16.091919</td>\n",
       "      <td>1.0</td>\n",
       "    </tr>\n",
       "  </tbody>\n",
       "</table>\n",
       "</div>"
      ],
      "text/plain": [
       "                ACCX           ACCY           ACCZ            ECG  \\\n",
       "count  818300.000000  818300.000000  818300.000000  818300.000000   \n",
       "mean        0.753142      -0.166138      -0.538999       0.001570   \n",
       "std         0.069864       0.029747       0.115693       0.248329   \n",
       "min         0.528200      -0.611800      -0.885000      -1.101654   \n",
       "25%         0.676600      -0.186200      -0.660400      -0.049210   \n",
       "50%         0.771000      -0.153800      -0.529400      -0.019455   \n",
       "75%         0.811000      -0.144800      -0.453800       0.006409   \n",
       "max         1.050400      -0.038800       0.157000       1.499954   \n",
       "\n",
       "                 EMG            EDA           Temp           Resp     label  \n",
       "count  818300.000000  818300.000000  818300.000000  818300.000000  818300.0  \n",
       "mean       -0.002449       3.874559      34.818989       0.072360       1.0  \n",
       "std         0.013831       0.094358       0.214129       1.546406       0.0  \n",
       "min        -0.402145       3.569412      34.185547      -9.318542       1.0  \n",
       "25%        -0.009705       3.803635      34.612518      -0.929260       1.0  \n",
       "50%        -0.001968       3.857803      34.835419      -0.025940       1.0  \n",
       "75%         0.005356       3.898621      34.971069       0.788879       1.0  \n",
       "max         0.251083       4.249573      35.227661      16.091919       1.0  "
      ]
     },
     "execution_count": 15,
     "metadata": {},
     "output_type": "execute_result"
    }
   ],
   "source": [
    "label_1 = data[data['label'] == 1 ]\n",
    "label_1.describe()"
   ]
  },
  {
   "cell_type": "code",
   "execution_count": 16,
   "id": "05e0c76f",
   "metadata": {
    "execution": {
     "iopub.execute_input": "2021-08-27T16:23:57.344727Z",
     "iopub.status.busy": "2021-08-27T16:23:57.343653Z",
     "iopub.status.idle": "2021-08-27T16:23:57.544995Z",
     "shell.execute_reply": "2021-08-27T16:23:57.544406Z",
     "shell.execute_reply.started": "2021-08-25T19:06:19.179884Z"
    },
    "papermill": {
     "duration": 0.315013,
     "end_time": "2021-08-27T16:23:57.545165",
     "exception": false,
     "start_time": "2021-08-27T16:23:57.230152",
     "status": "completed"
    },
    "tags": []
   },
   "outputs": [
    {
     "data": {
      "text/html": [
       "<div>\n",
       "<style scoped>\n",
       "    .dataframe tbody tr th:only-of-type {\n",
       "        vertical-align: middle;\n",
       "    }\n",
       "\n",
       "    .dataframe tbody tr th {\n",
       "        vertical-align: top;\n",
       "    }\n",
       "\n",
       "    .dataframe thead th {\n",
       "        text-align: right;\n",
       "    }\n",
       "</style>\n",
       "<table border=\"1\" class=\"dataframe\">\n",
       "  <thead>\n",
       "    <tr style=\"text-align: right;\">\n",
       "      <th></th>\n",
       "      <th>ACCX</th>\n",
       "      <th>ACCY</th>\n",
       "      <th>ACCZ</th>\n",
       "      <th>ECG</th>\n",
       "      <th>EMG</th>\n",
       "      <th>EDA</th>\n",
       "      <th>Temp</th>\n",
       "      <th>Resp</th>\n",
       "      <th>label</th>\n",
       "    </tr>\n",
       "  </thead>\n",
       "  <tbody>\n",
       "    <tr>\n",
       "      <th>count</th>\n",
       "      <td>469000.000000</td>\n",
       "      <td>469000.000000</td>\n",
       "      <td>469000.000000</td>\n",
       "      <td>469000.000000</td>\n",
       "      <td>469000.000000</td>\n",
       "      <td>469000.000000</td>\n",
       "      <td>469000.000000</td>\n",
       "      <td>469000.000000</td>\n",
       "      <td>469000.0</td>\n",
       "    </tr>\n",
       "    <tr>\n",
       "      <th>mean</th>\n",
       "      <td>0.914077</td>\n",
       "      <td>-0.037087</td>\n",
       "      <td>-0.032926</td>\n",
       "      <td>0.001463</td>\n",
       "      <td>-0.002732</td>\n",
       "      <td>3.838104</td>\n",
       "      <td>34.989685</td>\n",
       "      <td>0.068841</td>\n",
       "      <td>2.0</td>\n",
       "    </tr>\n",
       "    <tr>\n",
       "      <th>std</th>\n",
       "      <td>0.028364</td>\n",
       "      <td>0.049161</td>\n",
       "      <td>0.057789</td>\n",
       "      <td>0.317534</td>\n",
       "      <td>0.017692</td>\n",
       "      <td>0.094201</td>\n",
       "      <td>0.167880</td>\n",
       "      <td>4.390853</td>\n",
       "      <td>0.0</td>\n",
       "    </tr>\n",
       "    <tr>\n",
       "      <th>min</th>\n",
       "      <td>0.600200</td>\n",
       "      <td>-0.331800</td>\n",
       "      <td>-1.798400</td>\n",
       "      <td>-1.440353</td>\n",
       "      <td>-0.210571</td>\n",
       "      <td>3.504944</td>\n",
       "      <td>34.752319</td>\n",
       "      <td>-15.196228</td>\n",
       "      <td>2.0</td>\n",
       "    </tr>\n",
       "    <tr>\n",
       "      <th>25%</th>\n",
       "      <td>0.908600</td>\n",
       "      <td>-0.059400</td>\n",
       "      <td>-0.066200</td>\n",
       "      <td>-0.152756</td>\n",
       "      <td>-0.010941</td>\n",
       "      <td>3.773117</td>\n",
       "      <td>35.008118</td>\n",
       "      <td>-2.696228</td>\n",
       "      <td>2.0</td>\n",
       "    </tr>\n",
       "    <tr>\n",
       "      <th>50%</th>\n",
       "      <td>0.914600</td>\n",
       "      <td>-0.033400</td>\n",
       "      <td>-0.033400</td>\n",
       "      <td>-0.025589</td>\n",
       "      <td>-0.002289</td>\n",
       "      <td>3.827667</td>\n",
       "      <td>35.106995</td>\n",
       "      <td>-0.392151</td>\n",
       "      <td>2.0</td>\n",
       "    </tr>\n",
       "    <tr>\n",
       "      <th>75%</th>\n",
       "      <td>0.921000</td>\n",
       "      <td>-0.010200</td>\n",
       "      <td>-0.005000</td>\n",
       "      <td>0.063309</td>\n",
       "      <td>0.005722</td>\n",
       "      <td>3.901672</td>\n",
       "      <td>35.199768</td>\n",
       "      <td>1.995850</td>\n",
       "      <td>2.0</td>\n",
       "    </tr>\n",
       "    <tr>\n",
       "      <th>max</th>\n",
       "      <td>1.494800</td>\n",
       "      <td>0.517600</td>\n",
       "      <td>1.033000</td>\n",
       "      <td>1.499496</td>\n",
       "      <td>0.309860</td>\n",
       "      <td>4.253769</td>\n",
       "      <td>35.432373</td>\n",
       "      <td>20.079041</td>\n",
       "      <td>2.0</td>\n",
       "    </tr>\n",
       "  </tbody>\n",
       "</table>\n",
       "</div>"
      ],
      "text/plain": [
       "                ACCX           ACCY           ACCZ            ECG  \\\n",
       "count  469000.000000  469000.000000  469000.000000  469000.000000   \n",
       "mean        0.914077      -0.037087      -0.032926       0.001463   \n",
       "std         0.028364       0.049161       0.057789       0.317534   \n",
       "min         0.600200      -0.331800      -1.798400      -1.440353   \n",
       "25%         0.908600      -0.059400      -0.066200      -0.152756   \n",
       "50%         0.914600      -0.033400      -0.033400      -0.025589   \n",
       "75%         0.921000      -0.010200      -0.005000       0.063309   \n",
       "max         1.494800       0.517600       1.033000       1.499496   \n",
       "\n",
       "                 EMG            EDA           Temp           Resp     label  \n",
       "count  469000.000000  469000.000000  469000.000000  469000.000000  469000.0  \n",
       "mean       -0.002732       3.838104      34.989685       0.068841       2.0  \n",
       "std         0.017692       0.094201       0.167880       4.390853       0.0  \n",
       "min        -0.210571       3.504944      34.752319     -15.196228       2.0  \n",
       "25%        -0.010941       3.773117      35.008118      -2.696228       2.0  \n",
       "50%        -0.002289       3.827667      35.106995      -0.392151       2.0  \n",
       "75%         0.005722       3.901672      35.199768       1.995850       2.0  \n",
       "max         0.309860       4.253769      35.432373      20.079041       2.0  "
      ]
     },
     "execution_count": 16,
     "metadata": {},
     "output_type": "execute_result"
    }
   ],
   "source": [
    "label_2 = data[data['label'] == 2 ]\n",
    "label_2.describe()"
   ]
  },
  {
   "cell_type": "code",
   "execution_count": 17,
   "id": "c466c366",
   "metadata": {
    "execution": {
     "iopub.execute_input": "2021-08-27T16:23:57.771344Z",
     "iopub.status.busy": "2021-08-27T16:23:57.770311Z",
     "iopub.status.idle": "2021-08-27T16:23:57.905185Z",
     "shell.execute_reply": "2021-08-27T16:23:57.904222Z",
     "shell.execute_reply.started": "2021-08-25T19:06:19.381485Z"
    },
    "papermill": {
     "duration": 0.25127,
     "end_time": "2021-08-27T16:23:57.905389",
     "exception": false,
     "start_time": "2021-08-27T16:23:57.654119",
     "status": "completed"
    },
    "tags": []
   },
   "outputs": [
    {
     "data": {
      "text/html": [
       "<div>\n",
       "<style scoped>\n",
       "    .dataframe tbody tr th:only-of-type {\n",
       "        vertical-align: middle;\n",
       "    }\n",
       "\n",
       "    .dataframe tbody tr th {\n",
       "        vertical-align: top;\n",
       "    }\n",
       "\n",
       "    .dataframe thead th {\n",
       "        text-align: right;\n",
       "    }\n",
       "</style>\n",
       "<table border=\"1\" class=\"dataframe\">\n",
       "  <thead>\n",
       "    <tr style=\"text-align: right;\">\n",
       "      <th></th>\n",
       "      <th>ACCX</th>\n",
       "      <th>ACCY</th>\n",
       "      <th>ACCZ</th>\n",
       "      <th>ECG</th>\n",
       "      <th>EMG</th>\n",
       "      <th>EDA</th>\n",
       "      <th>Temp</th>\n",
       "      <th>Resp</th>\n",
       "      <th>label</th>\n",
       "    </tr>\n",
       "  </thead>\n",
       "  <tbody>\n",
       "    <tr>\n",
       "      <th>count</th>\n",
       "      <td>258999.000000</td>\n",
       "      <td>258999.000000</td>\n",
       "      <td>258999.000000</td>\n",
       "      <td>258999.000000</td>\n",
       "      <td>258999.000000</td>\n",
       "      <td>258999.000000</td>\n",
       "      <td>258999.000000</td>\n",
       "      <td>258999.000000</td>\n",
       "      <td>258999.0</td>\n",
       "    </tr>\n",
       "    <tr>\n",
       "      <th>mean</th>\n",
       "      <td>0.790904</td>\n",
       "      <td>0.167375</td>\n",
       "      <td>-0.436829</td>\n",
       "      <td>0.001604</td>\n",
       "      <td>-0.002476</td>\n",
       "      <td>3.734082</td>\n",
       "      <td>34.993938</td>\n",
       "      <td>0.056819</td>\n",
       "      <td>3.0</td>\n",
       "    </tr>\n",
       "    <tr>\n",
       "      <th>std</th>\n",
       "      <td>0.017545</td>\n",
       "      <td>0.016746</td>\n",
       "      <td>0.033950</td>\n",
       "      <td>0.248247</td>\n",
       "      <td>0.011646</td>\n",
       "      <td>0.045761</td>\n",
       "      <td>0.059055</td>\n",
       "      <td>3.425036</td>\n",
       "      <td>0.0</td>\n",
       "    </tr>\n",
       "    <tr>\n",
       "      <th>min</th>\n",
       "      <td>0.647400</td>\n",
       "      <td>0.071200</td>\n",
       "      <td>-0.573800</td>\n",
       "      <td>-0.597153</td>\n",
       "      <td>-0.302444</td>\n",
       "      <td>3.521347</td>\n",
       "      <td>34.772308</td>\n",
       "      <td>-13.664246</td>\n",
       "      <td>3.0</td>\n",
       "    </tr>\n",
       "    <tr>\n",
       "      <th>25%</th>\n",
       "      <td>0.781000</td>\n",
       "      <td>0.162000</td>\n",
       "      <td>-0.457000</td>\n",
       "      <td>-0.059235</td>\n",
       "      <td>-0.008835</td>\n",
       "      <td>3.700256</td>\n",
       "      <td>34.978790</td>\n",
       "      <td>-2.284241</td>\n",
       "      <td>3.0</td>\n",
       "    </tr>\n",
       "    <tr>\n",
       "      <th>50%</th>\n",
       "      <td>0.792200</td>\n",
       "      <td>0.169400</td>\n",
       "      <td>-0.432800</td>\n",
       "      <td>-0.012268</td>\n",
       "      <td>-0.001968</td>\n",
       "      <td>3.731537</td>\n",
       "      <td>35.026611</td>\n",
       "      <td>-0.399780</td>\n",
       "      <td>3.0</td>\n",
       "    </tr>\n",
       "    <tr>\n",
       "      <th>75%</th>\n",
       "      <td>0.802200</td>\n",
       "      <td>0.175400</td>\n",
       "      <td>-0.411400</td>\n",
       "      <td>0.012314</td>\n",
       "      <td>0.004578</td>\n",
       "      <td>3.773880</td>\n",
       "      <td>35.055969</td>\n",
       "      <td>2.532959</td>\n",
       "      <td>3.0</td>\n",
       "    </tr>\n",
       "    <tr>\n",
       "      <th>max</th>\n",
       "      <td>1.029000</td>\n",
       "      <td>0.281000</td>\n",
       "      <td>-0.280200</td>\n",
       "      <td>1.499405</td>\n",
       "      <td>0.202057</td>\n",
       "      <td>3.883743</td>\n",
       "      <td>35.233856</td>\n",
       "      <td>14.320374</td>\n",
       "      <td>3.0</td>\n",
       "    </tr>\n",
       "  </tbody>\n",
       "</table>\n",
       "</div>"
      ],
      "text/plain": [
       "                ACCX           ACCY           ACCZ            ECG  \\\n",
       "count  258999.000000  258999.000000  258999.000000  258999.000000   \n",
       "mean        0.790904       0.167375      -0.436829       0.001604   \n",
       "std         0.017545       0.016746       0.033950       0.248247   \n",
       "min         0.647400       0.071200      -0.573800      -0.597153   \n",
       "25%         0.781000       0.162000      -0.457000      -0.059235   \n",
       "50%         0.792200       0.169400      -0.432800      -0.012268   \n",
       "75%         0.802200       0.175400      -0.411400       0.012314   \n",
       "max         1.029000       0.281000      -0.280200       1.499405   \n",
       "\n",
       "                 EMG            EDA           Temp           Resp     label  \n",
       "count  258999.000000  258999.000000  258999.000000  258999.000000  258999.0  \n",
       "mean       -0.002476       3.734082      34.993938       0.056819       3.0  \n",
       "std         0.011646       0.045761       0.059055       3.425036       0.0  \n",
       "min        -0.302444       3.521347      34.772308     -13.664246       3.0  \n",
       "25%        -0.008835       3.700256      34.978790      -2.284241       3.0  \n",
       "50%        -0.001968       3.731537      35.026611      -0.399780       3.0  \n",
       "75%         0.004578       3.773880      35.055969       2.532959       3.0  \n",
       "max         0.202057       3.883743      35.233856      14.320374       3.0  "
      ]
     },
     "execution_count": 17,
     "metadata": {},
     "output_type": "execute_result"
    }
   ],
   "source": [
    "label_3 = data[data['label'] == 3 ]\n",
    "label_3.describe()"
   ]
  },
  {
   "cell_type": "code",
   "execution_count": 18,
   "id": "b0d25fe8",
   "metadata": {
    "execution": {
     "iopub.execute_input": "2021-08-27T16:23:58.162497Z",
     "iopub.status.busy": "2021-08-27T16:23:58.160026Z",
     "iopub.status.idle": "2021-08-27T16:23:58.168007Z",
     "shell.execute_reply": "2021-08-27T16:23:58.167339Z",
     "shell.execute_reply.started": "2021-08-25T19:06:19.508528Z"
    },
    "papermill": {
     "duration": 0.146899,
     "end_time": "2021-08-27T16:23:58.168171",
     "exception": false,
     "start_time": "2021-08-27T16:23:58.021272",
     "status": "completed"
    },
    "tags": []
   },
   "outputs": [
    {
     "data": {
      "text/html": [
       "<div>\n",
       "<style scoped>\n",
       "    .dataframe tbody tr th:only-of-type {\n",
       "        vertical-align: middle;\n",
       "    }\n",
       "\n",
       "    .dataframe tbody tr th {\n",
       "        vertical-align: top;\n",
       "    }\n",
       "\n",
       "    .dataframe thead th {\n",
       "        text-align: right;\n",
       "    }\n",
       "</style>\n",
       "<table border=\"1\" class=\"dataframe\">\n",
       "  <thead>\n",
       "    <tr style=\"text-align: right;\">\n",
       "      <th></th>\n",
       "      <th>ACCX</th>\n",
       "      <th>ACCY</th>\n",
       "      <th>ACCZ</th>\n",
       "      <th>ECG</th>\n",
       "      <th>EMG</th>\n",
       "      <th>EDA</th>\n",
       "      <th>Temp</th>\n",
       "      <th>Resp</th>\n",
       "      <th>label</th>\n",
       "    </tr>\n",
       "  </thead>\n",
       "  <tbody>\n",
       "    <tr>\n",
       "      <th>1163772</th>\n",
       "      <td>0.8094</td>\n",
       "      <td>0.1220</td>\n",
       "      <td>-0.4270</td>\n",
       "      <td>-0.044586</td>\n",
       "      <td>-0.007050</td>\n",
       "      <td>3.804779</td>\n",
       "      <td>34.989563</td>\n",
       "      <td>-0.878906</td>\n",
       "      <td>3</td>\n",
       "    </tr>\n",
       "    <tr>\n",
       "      <th>1163773</th>\n",
       "      <td>0.8074</td>\n",
       "      <td>0.1230</td>\n",
       "      <td>-0.4250</td>\n",
       "      <td>-0.040100</td>\n",
       "      <td>0.005905</td>\n",
       "      <td>3.803635</td>\n",
       "      <td>34.971069</td>\n",
       "      <td>-1.231384</td>\n",
       "      <td>3</td>\n",
       "    </tr>\n",
       "    <tr>\n",
       "      <th>1163774</th>\n",
       "      <td>0.8090</td>\n",
       "      <td>0.1234</td>\n",
       "      <td>-0.4246</td>\n",
       "      <td>-0.035202</td>\n",
       "      <td>0.005722</td>\n",
       "      <td>3.808594</td>\n",
       "      <td>34.989563</td>\n",
       "      <td>-0.892639</td>\n",
       "      <td>3</td>\n",
       "    </tr>\n",
       "    <tr>\n",
       "      <th>1163775</th>\n",
       "      <td>0.8062</td>\n",
       "      <td>0.1214</td>\n",
       "      <td>-0.4222</td>\n",
       "      <td>-0.034195</td>\n",
       "      <td>0.000595</td>\n",
       "      <td>3.810501</td>\n",
       "      <td>34.978790</td>\n",
       "      <td>-0.868225</td>\n",
       "      <td>3</td>\n",
       "    </tr>\n",
       "    <tr>\n",
       "      <th>1163776</th>\n",
       "      <td>0.8066</td>\n",
       "      <td>0.1240</td>\n",
       "      <td>-0.4260</td>\n",
       "      <td>-0.032913</td>\n",
       "      <td>0.008102</td>\n",
       "      <td>3.818893</td>\n",
       "      <td>34.980316</td>\n",
       "      <td>-0.856018</td>\n",
       "      <td>3</td>\n",
       "    </tr>\n",
       "    <tr>\n",
       "      <th>...</th>\n",
       "      <td>...</td>\n",
       "      <td>...</td>\n",
       "      <td>...</td>\n",
       "      <td>...</td>\n",
       "      <td>...</td>\n",
       "      <td>...</td>\n",
       "      <td>...</td>\n",
       "      <td>...</td>\n",
       "      <td>...</td>\n",
       "    </tr>\n",
       "    <tr>\n",
       "      <th>1422766</th>\n",
       "      <td>0.7742</td>\n",
       "      <td>0.1644</td>\n",
       "      <td>-0.4666</td>\n",
       "      <td>-0.016708</td>\n",
       "      <td>0.005539</td>\n",
       "      <td>3.639221</td>\n",
       "      <td>34.992676</td>\n",
       "      <td>-2.494812</td>\n",
       "      <td>3</td>\n",
       "    </tr>\n",
       "    <tr>\n",
       "      <th>1422767</th>\n",
       "      <td>0.7748</td>\n",
       "      <td>0.1650</td>\n",
       "      <td>-0.4662</td>\n",
       "      <td>-0.017578</td>\n",
       "      <td>-0.001602</td>\n",
       "      <td>3.638840</td>\n",
       "      <td>35.005005</td>\n",
       "      <td>-2.491760</td>\n",
       "      <td>3</td>\n",
       "    </tr>\n",
       "    <tr>\n",
       "      <th>1422768</th>\n",
       "      <td>0.7754</td>\n",
       "      <td>0.1640</td>\n",
       "      <td>-0.4680</td>\n",
       "      <td>-0.018356</td>\n",
       "      <td>-0.002518</td>\n",
       "      <td>3.638840</td>\n",
       "      <td>34.986511</td>\n",
       "      <td>-2.490234</td>\n",
       "      <td>3</td>\n",
       "    </tr>\n",
       "    <tr>\n",
       "      <th>1422769</th>\n",
       "      <td>0.7754</td>\n",
       "      <td>0.1658</td>\n",
       "      <td>-0.4676</td>\n",
       "      <td>-0.022522</td>\n",
       "      <td>-0.000916</td>\n",
       "      <td>3.642273</td>\n",
       "      <td>35.011200</td>\n",
       "      <td>-2.479553</td>\n",
       "      <td>3</td>\n",
       "    </tr>\n",
       "    <tr>\n",
       "      <th>1422770</th>\n",
       "      <td>0.7770</td>\n",
       "      <td>0.1650</td>\n",
       "      <td>-0.4630</td>\n",
       "      <td>-0.025314</td>\n",
       "      <td>-0.003021</td>\n",
       "      <td>3.643036</td>\n",
       "      <td>34.997314</td>\n",
       "      <td>-2.485657</td>\n",
       "      <td>3</td>\n",
       "    </tr>\n",
       "  </tbody>\n",
       "</table>\n",
       "<p>258999 rows × 9 columns</p>\n",
       "</div>"
      ],
      "text/plain": [
       "           ACCX    ACCY    ACCZ       ECG       EMG       EDA       Temp  \\\n",
       "1163772  0.8094  0.1220 -0.4270 -0.044586 -0.007050  3.804779  34.989563   \n",
       "1163773  0.8074  0.1230 -0.4250 -0.040100  0.005905  3.803635  34.971069   \n",
       "1163774  0.8090  0.1234 -0.4246 -0.035202  0.005722  3.808594  34.989563   \n",
       "1163775  0.8062  0.1214 -0.4222 -0.034195  0.000595  3.810501  34.978790   \n",
       "1163776  0.8066  0.1240 -0.4260 -0.032913  0.008102  3.818893  34.980316   \n",
       "...         ...     ...     ...       ...       ...       ...        ...   \n",
       "1422766  0.7742  0.1644 -0.4666 -0.016708  0.005539  3.639221  34.992676   \n",
       "1422767  0.7748  0.1650 -0.4662 -0.017578 -0.001602  3.638840  35.005005   \n",
       "1422768  0.7754  0.1640 -0.4680 -0.018356 -0.002518  3.638840  34.986511   \n",
       "1422769  0.7754  0.1658 -0.4676 -0.022522 -0.000916  3.642273  35.011200   \n",
       "1422770  0.7770  0.1650 -0.4630 -0.025314 -0.003021  3.643036  34.997314   \n",
       "\n",
       "             Resp  label  \n",
       "1163772 -0.878906      3  \n",
       "1163773 -1.231384      3  \n",
       "1163774 -0.892639      3  \n",
       "1163775 -0.868225      3  \n",
       "1163776 -0.856018      3  \n",
       "...           ...    ...  \n",
       "1422766 -2.494812      3  \n",
       "1422767 -2.491760      3  \n",
       "1422768 -2.490234      3  \n",
       "1422769 -2.479553      3  \n",
       "1422770 -2.485657      3  \n",
       "\n",
       "[258999 rows x 9 columns]"
      ]
     },
     "execution_count": 18,
     "metadata": {},
     "output_type": "execute_result"
    }
   ],
   "source": [
    "label_3"
   ]
  },
  {
   "cell_type": "code",
   "execution_count": 19,
   "id": "c7e626aa",
   "metadata": {
    "execution": {
     "iopub.execute_input": "2021-08-27T16:23:58.470729Z",
     "iopub.status.busy": "2021-08-27T16:23:58.469667Z",
     "iopub.status.idle": "2021-08-27T16:23:58.474269Z",
     "shell.execute_reply": "2021-08-27T16:23:58.473732Z",
     "shell.execute_reply.started": "2021-08-25T19:06:19.538417Z"
    },
    "papermill": {
     "duration": 0.19425,
     "end_time": "2021-08-27T16:23:58.474443",
     "exception": false,
     "start_time": "2021-08-27T16:23:58.280193",
     "status": "completed"
    },
    "tags": []
   },
   "outputs": [
    {
     "data": {
      "text/plain": [
       "Index(['ACCX', 'ACCY', 'ACCZ', 'ECG', 'EMG', 'EDA', 'Temp', 'Resp', 'label'], dtype='object')"
      ]
     },
     "execution_count": 19,
     "metadata": {},
     "output_type": "execute_result"
    }
   ],
   "source": [
    "label_3.columns"
   ]
  },
  {
   "cell_type": "code",
   "execution_count": 20,
   "id": "ad392f1c",
   "metadata": {
    "execution": {
     "iopub.execute_input": "2021-08-27T16:23:58.705716Z",
     "iopub.status.busy": "2021-08-27T16:23:58.704984Z",
     "iopub.status.idle": "2021-08-27T16:23:58.708557Z",
     "shell.execute_reply": "2021-08-27T16:23:58.707944Z",
     "shell.execute_reply.started": "2021-08-25T19:06:19.555029Z"
    },
    "papermill": {
     "duration": 0.122351,
     "end_time": "2021-08-27T16:23:58.708736",
     "exception": false,
     "start_time": "2021-08-27T16:23:58.586385",
     "status": "completed"
    },
    "tags": []
   },
   "outputs": [],
   "source": [
    "sns.set()"
   ]
  },
  {
   "cell_type": "code",
   "execution_count": 21,
   "id": "bd012357",
   "metadata": {
    "execution": {
     "iopub.execute_input": "2021-08-27T16:23:58.946334Z",
     "iopub.status.busy": "2021-08-27T16:23:58.945587Z",
     "iopub.status.idle": "2021-08-27T16:23:58.997623Z",
     "shell.execute_reply": "2021-08-27T16:23:58.998196Z",
     "shell.execute_reply.started": "2021-08-25T19:06:19.575226Z"
    },
    "papermill": {
     "duration": 0.173855,
     "end_time": "2021-08-27T16:23:58.998450",
     "exception": false,
     "start_time": "2021-08-27T16:23:58.824595",
     "status": "completed"
    },
    "tags": []
   },
   "outputs": [
    {
     "data": {
      "text/plain": [
       "(818300, 469000, 258999)"
      ]
     },
     "execution_count": 21,
     "metadata": {},
     "output_type": "execute_result"
    }
   ],
   "source": [
    "label_1.count()[0], label_2.count()[0], label_3.count()[0]"
   ]
  },
  {
   "cell_type": "code",
   "execution_count": 22,
   "id": "46f75921",
   "metadata": {
    "execution": {
     "iopub.execute_input": "2021-08-27T16:23:59.258448Z",
     "iopub.status.busy": "2021-08-27T16:23:59.257524Z",
     "iopub.status.idle": "2021-08-27T16:23:59.262904Z",
     "shell.execute_reply": "2021-08-27T16:23:59.262331Z",
     "shell.execute_reply.started": "2021-08-25T19:06:19.629204Z"
    },
    "papermill": {
     "duration": 0.149229,
     "end_time": "2021-08-27T16:23:59.263088",
     "exception": false,
     "start_time": "2021-08-27T16:23:59.113859",
     "status": "completed"
    },
    "tags": []
   },
   "outputs": [
    {
     "data": {
      "text/html": [
       "<div>\n",
       "<style scoped>\n",
       "    .dataframe tbody tr th:only-of-type {\n",
       "        vertical-align: middle;\n",
       "    }\n",
       "\n",
       "    .dataframe tbody tr th {\n",
       "        vertical-align: top;\n",
       "    }\n",
       "\n",
       "    .dataframe thead th {\n",
       "        text-align: right;\n",
       "    }\n",
       "</style>\n",
       "<table border=\"1\" class=\"dataframe\">\n",
       "  <thead>\n",
       "    <tr style=\"text-align: right;\">\n",
       "      <th></th>\n",
       "      <th>ACCX</th>\n",
       "      <th>ACCY</th>\n",
       "      <th>ACCZ</th>\n",
       "      <th>ECG</th>\n",
       "      <th>EMG</th>\n",
       "      <th>EDA</th>\n",
       "      <th>Temp</th>\n",
       "      <th>Resp</th>\n",
       "      <th>label</th>\n",
       "    </tr>\n",
       "  </thead>\n",
       "  <tbody>\n",
       "    <tr>\n",
       "      <th>110972</th>\n",
       "      <td>0.7112</td>\n",
       "      <td>-0.1910</td>\n",
       "      <td>-0.6150</td>\n",
       "      <td>-0.015884</td>\n",
       "      <td>0.005951</td>\n",
       "      <td>4.188919</td>\n",
       "      <td>34.315338</td>\n",
       "      <td>0.465393</td>\n",
       "      <td>1</td>\n",
       "    </tr>\n",
       "    <tr>\n",
       "      <th>110973</th>\n",
       "      <td>0.7112</td>\n",
       "      <td>-0.1934</td>\n",
       "      <td>-0.6150</td>\n",
       "      <td>-0.017349</td>\n",
       "      <td>-0.013412</td>\n",
       "      <td>4.185104</td>\n",
       "      <td>34.240479</td>\n",
       "      <td>0.152588</td>\n",
       "      <td>1</td>\n",
       "    </tr>\n",
       "    <tr>\n",
       "      <th>110974</th>\n",
       "      <td>0.7114</td>\n",
       "      <td>-0.1932</td>\n",
       "      <td>-0.6130</td>\n",
       "      <td>-0.014511</td>\n",
       "      <td>-0.014786</td>\n",
       "      <td>4.186630</td>\n",
       "      <td>34.301605</td>\n",
       "      <td>0.471497</td>\n",
       "      <td>1</td>\n",
       "    </tr>\n",
       "    <tr>\n",
       "      <th>110975</th>\n",
       "      <td>0.7108</td>\n",
       "      <td>-0.1922</td>\n",
       "      <td>-0.6122</td>\n",
       "      <td>-0.010391</td>\n",
       "      <td>-0.016663</td>\n",
       "      <td>4.201889</td>\n",
       "      <td>34.234375</td>\n",
       "      <td>0.482178</td>\n",
       "      <td>1</td>\n",
       "    </tr>\n",
       "    <tr>\n",
       "      <th>110976</th>\n",
       "      <td>0.7082</td>\n",
       "      <td>-0.1922</td>\n",
       "      <td>-0.6078</td>\n",
       "      <td>-0.011169</td>\n",
       "      <td>-0.002151</td>\n",
       "      <td>4.198837</td>\n",
       "      <td>34.300049</td>\n",
       "      <td>0.506592</td>\n",
       "      <td>1</td>\n",
       "    </tr>\n",
       "    <tr>\n",
       "      <th>...</th>\n",
       "      <td>...</td>\n",
       "      <td>...</td>\n",
       "      <td>...</td>\n",
       "      <td>...</td>\n",
       "      <td>...</td>\n",
       "      <td>...</td>\n",
       "      <td>...</td>\n",
       "      <td>...</td>\n",
       "      <td>...</td>\n",
       "    </tr>\n",
       "    <tr>\n",
       "      <th>929267</th>\n",
       "      <td>0.7336</td>\n",
       "      <td>-0.1338</td>\n",
       "      <td>-0.5960</td>\n",
       "      <td>-0.019821</td>\n",
       "      <td>0.006042</td>\n",
       "      <td>3.791046</td>\n",
       "      <td>34.969513</td>\n",
       "      <td>1.692200</td>\n",
       "      <td>1</td>\n",
       "    </tr>\n",
       "    <tr>\n",
       "      <th>929268</th>\n",
       "      <td>0.7338</td>\n",
       "      <td>-0.1352</td>\n",
       "      <td>-0.5938</td>\n",
       "      <td>-0.016342</td>\n",
       "      <td>-0.010208</td>\n",
       "      <td>3.795624</td>\n",
       "      <td>34.938660</td>\n",
       "      <td>1.689148</td>\n",
       "      <td>1</td>\n",
       "    </tr>\n",
       "    <tr>\n",
       "      <th>929269</th>\n",
       "      <td>0.7352</td>\n",
       "      <td>-0.1352</td>\n",
       "      <td>-0.5940</td>\n",
       "      <td>-0.018127</td>\n",
       "      <td>0.005722</td>\n",
       "      <td>3.805542</td>\n",
       "      <td>34.878571</td>\n",
       "      <td>1.670837</td>\n",
       "      <td>1</td>\n",
       "    </tr>\n",
       "    <tr>\n",
       "      <th>929270</th>\n",
       "      <td>0.7366</td>\n",
       "      <td>-0.1330</td>\n",
       "      <td>-0.5982</td>\n",
       "      <td>-0.020096</td>\n",
       "      <td>0.003113</td>\n",
       "      <td>3.791428</td>\n",
       "      <td>34.974152</td>\n",
       "      <td>1.670837</td>\n",
       "      <td>1</td>\n",
       "    </tr>\n",
       "    <tr>\n",
       "      <th>929271</th>\n",
       "      <td>0.7362</td>\n",
       "      <td>-0.1326</td>\n",
       "      <td>-0.5942</td>\n",
       "      <td>-0.023621</td>\n",
       "      <td>-0.010941</td>\n",
       "      <td>3.799820</td>\n",
       "      <td>34.952545</td>\n",
       "      <td>1.686096</td>\n",
       "      <td>1</td>\n",
       "    </tr>\n",
       "  </tbody>\n",
       "</table>\n",
       "<p>818300 rows × 9 columns</p>\n",
       "</div>"
      ],
      "text/plain": [
       "          ACCX    ACCY    ACCZ       ECG       EMG       EDA       Temp  \\\n",
       "110972  0.7112 -0.1910 -0.6150 -0.015884  0.005951  4.188919  34.315338   \n",
       "110973  0.7112 -0.1934 -0.6150 -0.017349 -0.013412  4.185104  34.240479   \n",
       "110974  0.7114 -0.1932 -0.6130 -0.014511 -0.014786  4.186630  34.301605   \n",
       "110975  0.7108 -0.1922 -0.6122 -0.010391 -0.016663  4.201889  34.234375   \n",
       "110976  0.7082 -0.1922 -0.6078 -0.011169 -0.002151  4.198837  34.300049   \n",
       "...        ...     ...     ...       ...       ...       ...        ...   \n",
       "929267  0.7336 -0.1338 -0.5960 -0.019821  0.006042  3.791046  34.969513   \n",
       "929268  0.7338 -0.1352 -0.5938 -0.016342 -0.010208  3.795624  34.938660   \n",
       "929269  0.7352 -0.1352 -0.5940 -0.018127  0.005722  3.805542  34.878571   \n",
       "929270  0.7366 -0.1330 -0.5982 -0.020096  0.003113  3.791428  34.974152   \n",
       "929271  0.7362 -0.1326 -0.5942 -0.023621 -0.010941  3.799820  34.952545   \n",
       "\n",
       "            Resp  label  \n",
       "110972  0.465393      1  \n",
       "110973  0.152588      1  \n",
       "110974  0.471497      1  \n",
       "110975  0.482178      1  \n",
       "110976  0.506592      1  \n",
       "...          ...    ...  \n",
       "929267  1.692200      1  \n",
       "929268  1.689148      1  \n",
       "929269  1.670837      1  \n",
       "929270  1.670837      1  \n",
       "929271  1.686096      1  \n",
       "\n",
       "[818300 rows x 9 columns]"
      ]
     },
     "execution_count": 22,
     "metadata": {},
     "output_type": "execute_result"
    }
   ],
   "source": [
    "label_1"
   ]
  },
  {
   "cell_type": "markdown",
   "id": "0d93b975",
   "metadata": {
    "papermill": {
     "duration": 0.114838,
     "end_time": "2021-08-27T16:23:59.494543",
     "exception": false,
     "start_time": "2021-08-27T16:23:59.379705",
     "status": "completed"
    },
    "tags": []
   },
   "source": [
    "Amout of data available"
   ]
  },
  {
   "cell_type": "code",
   "execution_count": 23,
   "id": "5b571ad4",
   "metadata": {
    "execution": {
     "iopub.execute_input": "2021-08-27T16:23:59.737667Z",
     "iopub.status.busy": "2021-08-27T16:23:59.736641Z",
     "iopub.status.idle": "2021-08-27T16:23:59.790154Z",
     "shell.execute_reply": "2021-08-27T16:23:59.789613Z",
     "shell.execute_reply.started": "2021-08-25T19:06:19.657207Z"
    },
    "papermill": {
     "duration": 0.180658,
     "end_time": "2021-08-27T16:23:59.790318",
     "exception": false,
     "start_time": "2021-08-27T16:23:59.609660",
     "status": "completed"
    },
    "tags": []
   },
   "outputs": [
    {
     "data": {
      "text/plain": [
       "(1169.0, 670.0, 369.99857142857144)"
      ]
     },
     "execution_count": 23,
     "metadata": {},
     "output_type": "execute_result"
    }
   ],
   "source": [
    "label_1.count()[0]/700, label_2.count()[0]/700, label_3.count()[0]/700"
   ]
  },
  {
   "cell_type": "markdown",
   "id": "339889d7",
   "metadata": {
    "papermill": {
     "duration": 0.116161,
     "end_time": "2021-08-27T16:24:00.019678",
     "exception": false,
     "start_time": "2021-08-27T16:23:59.903517",
     "status": "completed"
    },
    "tags": []
   },
   "source": [
    "### Run only for S4,S7 and ignore the warning\n",
    "As it has ```700x+1``` data in label 1, 3 respectively"
   ]
  },
  {
   "cell_type": "code",
   "execution_count": 24,
   "id": "43d0b2e2",
   "metadata": {
    "execution": {
     "iopub.execute_input": "2021-08-27T16:24:00.253480Z",
     "iopub.status.busy": "2021-08-27T16:24:00.252417Z",
     "iopub.status.idle": "2021-08-27T16:24:00.255593Z",
     "shell.execute_reply": "2021-08-27T16:24:00.254946Z",
     "shell.execute_reply.started": "2021-08-25T19:06:19.715982Z"
    },
    "papermill": {
     "duration": 0.122981,
     "end_time": "2021-08-27T16:24:00.255758",
     "exception": false,
     "start_time": "2021-08-27T16:24:00.132777",
     "status": "completed"
    },
    "tags": []
   },
   "outputs": [],
   "source": [
    "# only for S4 ( it has one extra data)\n",
    "if file_num == 4 :\n",
    "    n = 1\n",
    "    label_1.drop(label_1.tail(n).index,inplace=True)\n",
    "\n",
    "if file_num == 7 :\n",
    "    n = 1\n",
    "    label_3.drop(label_3.tail(n).index,inplace=True)\n",
    "    "
   ]
  },
  {
   "cell_type": "code",
   "execution_count": 25,
   "id": "45c43a26",
   "metadata": {
    "execution": {
     "iopub.execute_input": "2021-08-27T16:24:00.509717Z",
     "iopub.status.busy": "2021-08-27T16:24:00.508767Z",
     "iopub.status.idle": "2021-08-27T16:24:00.562155Z",
     "shell.execute_reply": "2021-08-27T16:24:00.561602Z",
     "shell.execute_reply.started": "2021-08-25T19:06:19.723088Z"
    },
    "papermill": {
     "duration": 0.180022,
     "end_time": "2021-08-27T16:24:00.562321",
     "exception": false,
     "start_time": "2021-08-27T16:24:00.382299",
     "status": "completed"
    },
    "tags": []
   },
   "outputs": [
    {
     "data": {
      "text/plain": [
       "(1169.0, 670.0, 369.99857142857144)"
      ]
     },
     "execution_count": 25,
     "metadata": {},
     "output_type": "execute_result"
    }
   ],
   "source": [
    "label_1.count()[0]/700, label_2.count()[0]/700, label_3.count()[0]/700"
   ]
  },
  {
   "cell_type": "markdown",
   "id": "d90abbdb",
   "metadata": {
    "papermill": {
     "duration": 0.114646,
     "end_time": "2021-08-27T16:24:01.258472",
     "exception": false,
     "start_time": "2021-08-27T16:24:01.143826",
     "status": "completed"
    },
    "tags": []
   },
   "source": [
    "----------------------------------------------------------------------------------------------------"
   ]
  },
  {
   "cell_type": "markdown",
   "id": "a43e2ad0",
   "metadata": {
    "papermill": {
     "duration": 0.113122,
     "end_time": "2021-08-27T16:24:01.484753",
     "exception": false,
     "start_time": "2021-08-27T16:24:01.371631",
     "status": "completed"
    },
    "tags": []
   },
   "source": [
    "### Code To Generate Sequence Data"
   ]
  },
  {
   "cell_type": "markdown",
   "id": "31baae02",
   "metadata": {
    "papermill": {
     "duration": 0.113741,
     "end_time": "2021-08-27T16:24:01.712691",
     "exception": false,
     "start_time": "2021-08-27T16:24:01.598950",
     "status": "completed"
    },
    "tags": []
   },
   "source": [
    "- Given **Sampling Rate = 700 Hz**. Therefore we have 700 samples per second \n",
    "- Now, for 1 sample represent 1/700s <br/>\n",
    "- Thus *x* samples represent *x/700s* \n",
    "\n",
    "-----------------------------\n",
    "\n",
    "- We have total data of 2121 seconds ie approximately 35 minutes for this participant (for S2) \n",
    "- To know the code for particular subject see the cell below "
   ]
  },
  {
   "cell_type": "code",
   "execution_count": 27,
   "id": "7b1cf4aa",
   "metadata": {
    "execution": {
     "iopub.execute_input": "2021-08-27T16:24:01.946472Z",
     "iopub.status.busy": "2021-08-27T16:24:01.945402Z",
     "iopub.status.idle": "2021-08-27T16:24:01.999322Z",
     "shell.execute_reply": "2021-08-27T16:24:01.999829Z",
     "shell.execute_reply.started": "2021-08-25T19:06:19.788672Z"
    },
    "papermill": {
     "duration": 0.173592,
     "end_time": "2021-08-27T16:24:02.000068",
     "exception": false,
     "start_time": "2021-08-27T16:24:01.826476",
     "status": "completed"
    },
    "tags": []
   },
   "outputs": [
    {
     "data": {
      "text/plain": [
       "2208.9985714285713"
      ]
     },
     "execution_count": 27,
     "metadata": {},
     "output_type": "execute_result"
    }
   ],
   "source": [
    "# We have total data of \n",
    "cnt = (label_1.count() + label_2.count() + label_3.count() )[0]/700\n",
    "cnt"
   ]
  },
  {
   "cell_type": "code",
   "execution_count": 28,
   "id": "587a9373",
   "metadata": {
    "execution": {
     "iopub.execute_input": "2021-08-27T16:24:02.235899Z",
     "iopub.status.busy": "2021-08-27T16:24:02.234767Z",
     "iopub.status.idle": "2021-08-27T16:24:02.241322Z",
     "shell.execute_reply": "2021-08-27T16:24:02.241815Z",
     "shell.execute_reply.started": "2021-08-25T19:06:19.85242Z"
    },
    "papermill": {
     "duration": 0.126549,
     "end_time": "2021-08-27T16:24:02.242040",
     "exception": false,
     "start_time": "2021-08-27T16:24:02.115491",
     "status": "completed"
    },
    "tags": []
   },
   "outputs": [
    {
     "data": {
      "text/plain": [
       "36.81664285714285"
      ]
     },
     "execution_count": 28,
     "metadata": {},
     "output_type": "execute_result"
    }
   ],
   "source": [
    "cnt/60"
   ]
  },
  {
   "cell_type": "markdown",
   "id": "a1c14a06",
   "metadata": {
    "papermill": {
     "duration": 0.113784,
     "end_time": "2021-08-27T16:24:02.468703",
     "exception": false,
     "start_time": "2021-08-27T16:24:02.354919",
     "status": "completed"
    },
    "tags": []
   },
   "source": [
    "## Appending the data frames "
   ]
  },
  {
   "cell_type": "code",
   "execution_count": 29,
   "id": "7023c425",
   "metadata": {
    "execution": {
     "iopub.execute_input": "2021-08-27T16:24:02.699855Z",
     "iopub.status.busy": "2021-08-27T16:24:02.698716Z",
     "iopub.status.idle": "2021-08-27T16:24:02.704207Z",
     "shell.execute_reply": "2021-08-27T16:24:02.703476Z",
     "shell.execute_reply.started": "2021-08-25T19:06:19.862368Z"
    },
    "papermill": {
     "duration": 0.122216,
     "end_time": "2021-08-27T16:24:02.704370",
     "exception": false,
     "start_time": "2021-08-27T16:24:02.582154",
     "status": "completed"
    },
    "tags": []
   },
   "outputs": [],
   "source": [
    "seq_data = label_1"
   ]
  },
  {
   "cell_type": "code",
   "execution_count": 30,
   "id": "66955cad",
   "metadata": {
    "execution": {
     "iopub.execute_input": "2021-08-27T16:24:02.936798Z",
     "iopub.status.busy": "2021-08-27T16:24:02.936089Z",
     "iopub.status.idle": "2021-08-27T16:24:03.232577Z",
     "shell.execute_reply": "2021-08-27T16:24:03.233185Z",
     "shell.execute_reply.started": "2021-08-25T19:06:19.873642Z"
    },
    "papermill": {
     "duration": 0.414099,
     "end_time": "2021-08-27T16:24:03.233432",
     "exception": false,
     "start_time": "2021-08-27T16:24:02.819333",
     "status": "completed"
    },
    "tags": []
   },
   "outputs": [],
   "source": [
    "seq_data = seq_data.append(label_2).append(label_3)"
   ]
  },
  {
   "cell_type": "code",
   "execution_count": 31,
   "id": "5584924f",
   "metadata": {
    "execution": {
     "iopub.execute_input": "2021-08-27T16:24:03.471774Z",
     "iopub.status.busy": "2021-08-27T16:24:03.470443Z",
     "iopub.status.idle": "2021-08-27T16:24:03.513375Z",
     "shell.execute_reply": "2021-08-27T16:24:03.512666Z",
     "shell.execute_reply.started": "2021-08-25T19:06:20.077667Z"
    },
    "papermill": {
     "duration": 0.165082,
     "end_time": "2021-08-27T16:24:03.513545",
     "exception": false,
     "start_time": "2021-08-27T16:24:03.348463",
     "status": "completed"
    },
    "tags": []
   },
   "outputs": [
    {
     "data": {
      "text/plain": [
       "2208.9985714285713"
      ]
     },
     "execution_count": 31,
     "metadata": {},
     "output_type": "execute_result"
    }
   ],
   "source": [
    "seq_data.count()[0]/700"
   ]
  },
  {
   "cell_type": "code",
   "execution_count": 32,
   "id": "6345e66a",
   "metadata": {
    "execution": {
     "iopub.execute_input": "2021-08-27T16:24:03.767350Z",
     "iopub.status.busy": "2021-08-27T16:24:03.766589Z",
     "iopub.status.idle": "2021-08-27T16:24:03.769547Z",
     "shell.execute_reply": "2021-08-27T16:24:03.770103Z",
     "shell.execute_reply.started": "2021-08-25T19:06:20.118604Z"
    },
    "papermill": {
     "duration": 0.140121,
     "end_time": "2021-08-27T16:24:03.770296",
     "exception": false,
     "start_time": "2021-08-27T16:24:03.630175",
     "status": "completed"
    },
    "tags": []
   },
   "outputs": [
    {
     "data": {
      "text/html": [
       "<div>\n",
       "<style scoped>\n",
       "    .dataframe tbody tr th:only-of-type {\n",
       "        vertical-align: middle;\n",
       "    }\n",
       "\n",
       "    .dataframe tbody tr th {\n",
       "        vertical-align: top;\n",
       "    }\n",
       "\n",
       "    .dataframe thead th {\n",
       "        text-align: right;\n",
       "    }\n",
       "</style>\n",
       "<table border=\"1\" class=\"dataframe\">\n",
       "  <thead>\n",
       "    <tr style=\"text-align: right;\">\n",
       "      <th></th>\n",
       "      <th>ACCX</th>\n",
       "      <th>ACCY</th>\n",
       "      <th>ACCZ</th>\n",
       "      <th>ECG</th>\n",
       "      <th>EMG</th>\n",
       "      <th>EDA</th>\n",
       "      <th>Temp</th>\n",
       "      <th>Resp</th>\n",
       "      <th>label</th>\n",
       "    </tr>\n",
       "  </thead>\n",
       "  <tbody>\n",
       "    <tr>\n",
       "      <th>110972</th>\n",
       "      <td>0.7112</td>\n",
       "      <td>-0.1910</td>\n",
       "      <td>-0.6150</td>\n",
       "      <td>-0.015884</td>\n",
       "      <td>0.005951</td>\n",
       "      <td>4.188919</td>\n",
       "      <td>34.315338</td>\n",
       "      <td>0.465393</td>\n",
       "      <td>1</td>\n",
       "    </tr>\n",
       "    <tr>\n",
       "      <th>110973</th>\n",
       "      <td>0.7112</td>\n",
       "      <td>-0.1934</td>\n",
       "      <td>-0.6150</td>\n",
       "      <td>-0.017349</td>\n",
       "      <td>-0.013412</td>\n",
       "      <td>4.185104</td>\n",
       "      <td>34.240479</td>\n",
       "      <td>0.152588</td>\n",
       "      <td>1</td>\n",
       "    </tr>\n",
       "    <tr>\n",
       "      <th>110974</th>\n",
       "      <td>0.7114</td>\n",
       "      <td>-0.1932</td>\n",
       "      <td>-0.6130</td>\n",
       "      <td>-0.014511</td>\n",
       "      <td>-0.014786</td>\n",
       "      <td>4.186630</td>\n",
       "      <td>34.301605</td>\n",
       "      <td>0.471497</td>\n",
       "      <td>1</td>\n",
       "    </tr>\n",
       "    <tr>\n",
       "      <th>110975</th>\n",
       "      <td>0.7108</td>\n",
       "      <td>-0.1922</td>\n",
       "      <td>-0.6122</td>\n",
       "      <td>-0.010391</td>\n",
       "      <td>-0.016663</td>\n",
       "      <td>4.201889</td>\n",
       "      <td>34.234375</td>\n",
       "      <td>0.482178</td>\n",
       "      <td>1</td>\n",
       "    </tr>\n",
       "    <tr>\n",
       "      <th>110976</th>\n",
       "      <td>0.7082</td>\n",
       "      <td>-0.1922</td>\n",
       "      <td>-0.6078</td>\n",
       "      <td>-0.011169</td>\n",
       "      <td>-0.002151</td>\n",
       "      <td>4.198837</td>\n",
       "      <td>34.300049</td>\n",
       "      <td>0.506592</td>\n",
       "      <td>1</td>\n",
       "    </tr>\n",
       "  </tbody>\n",
       "</table>\n",
       "</div>"
      ],
      "text/plain": [
       "          ACCX    ACCY    ACCZ       ECG       EMG       EDA       Temp  \\\n",
       "110972  0.7112 -0.1910 -0.6150 -0.015884  0.005951  4.188919  34.315338   \n",
       "110973  0.7112 -0.1934 -0.6150 -0.017349 -0.013412  4.185104  34.240479   \n",
       "110974  0.7114 -0.1932 -0.6130 -0.014511 -0.014786  4.186630  34.301605   \n",
       "110975  0.7108 -0.1922 -0.6122 -0.010391 -0.016663  4.201889  34.234375   \n",
       "110976  0.7082 -0.1922 -0.6078 -0.011169 -0.002151  4.198837  34.300049   \n",
       "\n",
       "            Resp  label  \n",
       "110972  0.465393      1  \n",
       "110973  0.152588      1  \n",
       "110974  0.471497      1  \n",
       "110975  0.482178      1  \n",
       "110976  0.506592      1  "
      ]
     },
     "execution_count": 32,
     "metadata": {},
     "output_type": "execute_result"
    }
   ],
   "source": [
    "seq_data.head()"
   ]
  },
  {
   "cell_type": "code",
   "execution_count": 33,
   "id": "ed07b81d",
   "metadata": {
    "execution": {
     "iopub.execute_input": "2021-08-27T16:24:04.005444Z",
     "iopub.status.busy": "2021-08-27T16:24:04.004603Z",
     "iopub.status.idle": "2021-08-27T16:24:04.622930Z",
     "shell.execute_reply": "2021-08-27T16:24:04.623528Z",
     "shell.execute_reply.started": "2021-08-25T19:06:20.139057Z"
    },
    "papermill": {
     "duration": 0.737266,
     "end_time": "2021-08-27T16:24:04.623729",
     "exception": false,
     "start_time": "2021-08-27T16:24:03.886463",
     "status": "completed"
    },
    "tags": []
   },
   "outputs": [
    {
     "data": {
      "text/html": [
       "<div>\n",
       "<style scoped>\n",
       "    .dataframe tbody tr th:only-of-type {\n",
       "        vertical-align: middle;\n",
       "    }\n",
       "\n",
       "    .dataframe tbody tr th {\n",
       "        vertical-align: top;\n",
       "    }\n",
       "\n",
       "    .dataframe thead th {\n",
       "        text-align: right;\n",
       "    }\n",
       "</style>\n",
       "<table border=\"1\" class=\"dataframe\">\n",
       "  <thead>\n",
       "    <tr style=\"text-align: right;\">\n",
       "      <th></th>\n",
       "      <th>ACCX</th>\n",
       "      <th>ACCY</th>\n",
       "      <th>ACCZ</th>\n",
       "      <th>ECG</th>\n",
       "      <th>EMG</th>\n",
       "      <th>EDA</th>\n",
       "      <th>Temp</th>\n",
       "      <th>Resp</th>\n",
       "      <th>label</th>\n",
       "    </tr>\n",
       "  </thead>\n",
       "  <tbody>\n",
       "    <tr>\n",
       "      <th>count</th>\n",
       "      <td>1.546299e+06</td>\n",
       "      <td>1.546299e+06</td>\n",
       "      <td>1.546299e+06</td>\n",
       "      <td>1.546299e+06</td>\n",
       "      <td>1.546299e+06</td>\n",
       "      <td>1.546299e+06</td>\n",
       "      <td>1.546299e+06</td>\n",
       "      <td>1.546299e+06</td>\n",
       "      <td>1.546299e+06</td>\n",
       "    </tr>\n",
       "    <tr>\n",
       "      <th>mean</th>\n",
       "      <td>8.082794e-01</td>\n",
       "      <td>-7.113406e-02</td>\n",
       "      <td>-3.683915e-01</td>\n",
       "      <td>1.543235e-03</td>\n",
       "      <td>-2.539523e-03</td>\n",
       "      <td>3.839973e+00</td>\n",
       "      <td>3.524007e+01</td>\n",
       "      <td>6.868940e-02</td>\n",
       "      <td>1.638297e+00</td>\n",
       "    </tr>\n",
       "    <tr>\n",
       "      <th>std</th>\n",
       "      <td>8.906684e-02</td>\n",
       "      <td>1.261132e-01</td>\n",
       "      <td>2.420951e-01</td>\n",
       "      <td>2.711789e-01</td>\n",
       "      <td>1.479537e-02</td>\n",
       "      <td>1.013215e-01</td>\n",
       "      <td>3.853379e-01</td>\n",
       "      <td>3.012971e+00</td>\n",
       "      <td>7.522409e-01</td>\n",
       "    </tr>\n",
       "    <tr>\n",
       "      <th>min</th>\n",
       "      <td>5.282000e-01</td>\n",
       "      <td>-6.118000e-01</td>\n",
       "      <td>-1.798400e+00</td>\n",
       "      <td>-1.440353e+00</td>\n",
       "      <td>-4.021454e-01</td>\n",
       "      <td>3.504944e+00</td>\n",
       "      <td>3.418555e+01</td>\n",
       "      <td>-1.519623e+01</td>\n",
       "      <td>1.000000e+00</td>\n",
       "    </tr>\n",
       "    <tr>\n",
       "      <th>25%</th>\n",
       "      <td>7.636000e-01</td>\n",
       "      <td>-1.562000e-01</td>\n",
       "      <td>-5.366000e-01</td>\n",
       "      <td>-8.074951e-02</td>\n",
       "      <td>-9.887695e-03</td>\n",
       "      <td>3.776550e+00</td>\n",
       "      <td>3.481540e+01</td>\n",
       "      <td>-1.429749e+00</td>\n",
       "      <td>1.000000e+00</td>\n",
       "    </tr>\n",
       "    <tr>\n",
       "      <th>50%</th>\n",
       "      <td>8.008000e-01</td>\n",
       "      <td>-1.352000e-01</td>\n",
       "      <td>-4.350000e-01</td>\n",
       "      <td>-1.867676e-02</td>\n",
       "      <td>-2.014160e-03</td>\n",
       "      <td>3.823090e+00</td>\n",
       "      <td>3.497723e+01</td>\n",
       "      <td>-1.144409e-01</td>\n",
       "      <td>1.000000e+00</td>\n",
       "    </tr>\n",
       "    <tr>\n",
       "      <th>75%</th>\n",
       "      <td>9.048001e-01</td>\n",
       "      <td>-1.260000e-02</td>\n",
       "      <td>-7.720000e-02</td>\n",
       "      <td>1.835632e-02</td>\n",
       "      <td>5.310059e-03</td>\n",
       "      <td>3.885269e+00</td>\n",
       "      <td>3.506680e+01</td>\n",
       "      <td>1.292419e+00</td>\n",
       "      <td>2.000000e+00</td>\n",
       "    </tr>\n",
       "    <tr>\n",
       "      <th>max</th>\n",
       "      <td>1.494800e+00</td>\n",
       "      <td>5.176001e-01</td>\n",
       "      <td>1.033000e+00</td>\n",
       "      <td>1.499954e+00</td>\n",
       "      <td>3.098602e-01</td>\n",
       "      <td>4.253769e+00</td>\n",
       "      <td>3.543237e+01</td>\n",
       "      <td>2.007904e+01</td>\n",
       "      <td>3.000000e+00</td>\n",
       "    </tr>\n",
       "  </tbody>\n",
       "</table>\n",
       "</div>"
      ],
      "text/plain": [
       "               ACCX          ACCY          ACCZ           ECG           EMG  \\\n",
       "count  1.546299e+06  1.546299e+06  1.546299e+06  1.546299e+06  1.546299e+06   \n",
       "mean   8.082794e-01 -7.113406e-02 -3.683915e-01  1.543235e-03 -2.539523e-03   \n",
       "std    8.906684e-02  1.261132e-01  2.420951e-01  2.711789e-01  1.479537e-02   \n",
       "min    5.282000e-01 -6.118000e-01 -1.798400e+00 -1.440353e+00 -4.021454e-01   \n",
       "25%    7.636000e-01 -1.562000e-01 -5.366000e-01 -8.074951e-02 -9.887695e-03   \n",
       "50%    8.008000e-01 -1.352000e-01 -4.350000e-01 -1.867676e-02 -2.014160e-03   \n",
       "75%    9.048001e-01 -1.260000e-02 -7.720000e-02  1.835632e-02  5.310059e-03   \n",
       "max    1.494800e+00  5.176001e-01  1.033000e+00  1.499954e+00  3.098602e-01   \n",
       "\n",
       "                EDA          Temp          Resp         label  \n",
       "count  1.546299e+06  1.546299e+06  1.546299e+06  1.546299e+06  \n",
       "mean   3.839973e+00  3.524007e+01  6.868940e-02  1.638297e+00  \n",
       "std    1.013215e-01  3.853379e-01  3.012971e+00  7.522409e-01  \n",
       "min    3.504944e+00  3.418555e+01 -1.519623e+01  1.000000e+00  \n",
       "25%    3.776550e+00  3.481540e+01 -1.429749e+00  1.000000e+00  \n",
       "50%    3.823090e+00  3.497723e+01 -1.144409e-01  1.000000e+00  \n",
       "75%    3.885269e+00  3.506680e+01  1.292419e+00  2.000000e+00  \n",
       "max    4.253769e+00  3.543237e+01  2.007904e+01  3.000000e+00  "
      ]
     },
     "execution_count": 33,
     "metadata": {},
     "output_type": "execute_result"
    }
   ],
   "source": [
    "seq_data.describe()"
   ]
  },
  {
   "cell_type": "markdown",
   "metadata": {},
   "source": [
    "# High Class Imbalance"
   ]
  },
  {
   "cell_type": "code",
   "execution_count": 34,
   "id": "32fbaa65",
   "metadata": {
    "execution": {
     "iopub.execute_input": "2021-08-27T16:24:04.903259Z",
     "iopub.status.busy": "2021-08-27T16:24:04.902442Z",
     "iopub.status.idle": "2021-08-27T16:24:05.436279Z",
     "shell.execute_reply": "2021-08-27T16:24:05.435531Z",
     "shell.execute_reply.started": "2021-08-25T19:06:20.646513Z"
    },
    "papermill": {
     "duration": 0.654451,
     "end_time": "2021-08-27T16:24:05.436444",
     "exception": false,
     "start_time": "2021-08-27T16:24:04.781993",
     "status": "completed"
    },
    "tags": []
   },
   "outputs": [
    {
     "data": {
      "image/png": "[encoded data removed]",
      "text/plain": [
       "<Figure size 1152x720 with 1 Axes>"
      ]
     },
     "metadata": {
      "image/png": {
       "height": 579,
       "width": 959
      }
     },
     "output_type": "display_data"
    }
   ],
   "source": [
    "seq_data.label.value_counts().plot(kind='bar')\n",
    "plt.xticks(rotation=45)\n",
    "plt.show()"
   ]
  },
  {
   "cell_type": "code",
   "execution_count": 35,
   "id": "4523a95b",
   "metadata": {
    "execution": {
     "iopub.execute_input": "2021-08-27T16:24:05.678913Z",
     "iopub.status.busy": "2021-08-27T16:24:05.678137Z",
     "iopub.status.idle": "2021-08-27T16:24:05.681249Z",
     "shell.execute_reply": "2021-08-27T16:24:05.681717Z",
     "shell.execute_reply.started": "2021-08-25T19:06:20.933073Z"
    },
    "papermill": {
     "duration": 0.128521,
     "end_time": "2021-08-27T16:24:05.681932",
     "exception": false,
     "start_time": "2021-08-27T16:24:05.553411",
     "status": "completed"
    },
    "tags": []
   },
   "outputs": [
    {
     "data": {
      "text/plain": [
       "2208.9985714285713"
      ]
     },
     "execution_count": 35,
     "metadata": {},
     "output_type": "execute_result"
    }
   ],
   "source": [
    "len(seq_data)/700"
   ]
  },
  {
   "cell_type": "code",
   "execution_count": 36,
   "id": "ee624301",
   "metadata": {
    "execution": {
     "iopub.execute_input": "2021-08-27T16:24:05.921248Z",
     "iopub.status.busy": "2021-08-27T16:24:05.920496Z",
     "iopub.status.idle": "2021-08-27T16:24:09.563982Z",
     "shell.execute_reply": "2021-08-27T16:24:09.564781Z",
     "shell.execute_reply.started": "2021-08-25T19:06:20.941908Z"
    },
    "papermill": {
     "duration": 3.764804,
     "end_time": "2021-08-27T16:24:09.565014",
     "exception": false,
     "start_time": "2021-08-27T16:24:05.800210",
     "status": "completed"
    },
    "tags": []
   },
   "outputs": [],
   "source": [
    "seq = np.array([], dtype='int')\n",
    "for i in range(int(len(seq_data)/700)) :\n",
    "  temp = np.ones(shape = 700,dtype='int')*i\n",
    "  seq = np.append(seq,temp)"
   ]
  },
  {
   "cell_type": "code",
   "execution_count": 37,
   "id": "2458d58b",
   "metadata": {
    "execution": {
     "iopub.execute_input": "2021-08-27T16:24:09.811202Z",
     "iopub.status.busy": "2021-08-27T16:24:09.810412Z",
     "iopub.status.idle": "2021-08-27T16:24:09.813291Z",
     "shell.execute_reply": "2021-08-27T16:24:09.813790Z",
     "shell.execute_reply.started": "2021-08-25T19:06:23.553186Z"
    },
    "papermill": {
     "duration": 0.126728,
     "end_time": "2021-08-27T16:24:09.814008",
     "exception": false,
     "start_time": "2021-08-27T16:24:09.687280",
     "status": "completed"
    },
    "tags": []
   },
   "outputs": [
    {
     "data": {
      "text/plain": [
       "(1545600,)"
      ]
     },
     "execution_count": 37,
     "metadata": {},
     "output_type": "execute_result"
    }
   ],
   "source": [
    "seq.shape"
   ]
  },
  {
   "cell_type": "code",
   "execution_count": 38,
   "id": "b13b1640",
   "metadata": {
    "execution": {
     "iopub.execute_input": "2021-08-27T16:24:10.055816Z",
     "iopub.status.busy": "2021-08-27T16:24:10.055125Z",
     "iopub.status.idle": "2021-08-27T16:24:10.060737Z",
     "shell.execute_reply": "2021-08-27T16:24:10.061290Z",
     "shell.execute_reply.started": "2021-08-25T19:06:23.56278Z"
    },
    "papermill": {
     "duration": 0.129576,
     "end_time": "2021-08-27T16:24:10.061496",
     "exception": false,
     "start_time": "2021-08-27T16:24:09.931920",
     "status": "completed"
    },
    "tags": []
   },
   "outputs": [
    {
     "data": {
      "text/plain": [
       "array([   0,    0,    0, ..., 2207, 2207, 2207])"
      ]
     },
     "execution_count": 38,
     "metadata": {},
     "output_type": "execute_result"
    }
   ],
   "source": [
    "seq"
   ]
  },
  {
   "cell_type": "markdown",
   "id": "75adf7ab",
   "metadata": {
    "papermill": {
     "duration": null,
     "end_time": null,
     "exception": null,
     "start_time": null,
     "status": "pending"
    },
    "tags": []
   },
   "source": [
    "## Preprocessing"
   ]
  },
  {
   "cell_type": "markdown",
   "id": "23271efd",
   "metadata": {
    "papermill": {
     "duration": null,
     "end_time": null,
     "exception": null,
     "start_time": null,
     "status": "pending"
    },
    "tags": []
   },
   "source": [
    "converting labels to 0,1,2"
   ]
  },
  {
   "cell_type": "code",
   "execution_count": null,
   "id": "041b47c7",
   "metadata": {
    "execution": {
     "iopub.status.busy": "2021-08-25T19:06:23.63617Z",
     "iopub.status.idle": "2021-08-25T19:06:23.636588Z"
    },
    "papermill": {
     "duration": null,
     "end_time": null,
     "exception": null,
     "start_time": null,
     "status": "pending"
    },
    "tags": []
   },
   "outputs": [],
   "source": [
    "seq_data.head()"
   ]
  },
  {
   "cell_type": "code",
   "execution_count": null,
   "id": "d78daf23",
   "metadata": {
    "execution": {
     "iopub.status.busy": "2021-08-25T19:06:23.637673Z",
     "iopub.status.idle": "2021-08-25T19:06:23.638182Z"
    },
    "papermill": {
     "duration": null,
     "end_time": null,
     "exception": null,
     "start_time": null,
     "status": "pending"
    },
    "tags": []
   },
   "outputs": [],
   "source": [
    "seq_data['label'] -= 1"
   ]
  },
  {
   "cell_type": "markdown",
   "id": "823f61d4",
   "metadata": {
    "papermill": {
     "duration": null,
     "end_time": null,
     "exception": null,
     "start_time": null,
     "status": "pending"
    },
    "tags": []
   },
   "source": [
    "Creating X and Y "
   ]
  },
  {
   "cell_type": "code",
   "execution_count": null,
   "id": "01263ce7",
   "metadata": {
    "execution": {
     "iopub.status.busy": "2021-08-25T19:06:23.64031Z",
     "iopub.status.idle": "2021-08-25T19:06:23.640715Z"
    },
    "papermill": {
     "duration": null,
     "end_time": null,
     "exception": null,
     "start_time": null,
     "status": "pending"
    },
    "tags": []
   },
   "outputs": [],
   "source": [
    "y_train = pd.DataFrame()\n",
    "y_train['series_id'] = seq_data['series_id']\n",
    "y_train['label'] = seq_data['label']"
   ]
  },
  {
   "cell_type": "markdown",
   "id": "5a307c21",
   "metadata": {
    "papermill": {
     "duration": null,
     "end_time": null,
     "exception": null,
     "start_time": null,
     "status": "pending"
    },
    "tags": []
   },
   "source": [
    "The Lables are already integers so we dont need to encode them"
   ]
  },
  {
   "cell_type": "code",
   "execution_count": null,
   "id": "f2c73f0d",
   "metadata": {
    "execution": {
     "iopub.status.busy": "2021-08-25T19:06:23.644074Z",
     "iopub.status.idle": "2021-08-25T19:06:23.644511Z"
    },
    "papermill": {
     "duration": null,
     "end_time": null,
     "exception": null,
     "start_time": null,
     "status": "pending"
    },
    "tags": []
   },
   "outputs": [],
   "source": [
    "FEATURE_COLUMNS = seq_data.columns.tolist()[1:]\n",
    "FEATURE_COLUMNS"
   ]
  },
  {
   "cell_type": "code",
   "execution_count": null,
   "id": "68d72adc",
   "metadata": {
    "execution": {
     "iopub.status.busy": "2021-08-25T19:06:23.646816Z",
     "iopub.status.idle": "2021-08-25T19:06:23.647239Z"
    },
    "papermill": {
     "duration": null,
     "end_time": null,
     "exception": null,
     "start_time": null,
     "status": "pending"
    },
    "tags": []
   },
   "outputs": [],
   "source": [
    "(seq_data.series_id.value_counts() == 700 ).sum() == len(y_train)"
   ]
  },
  {
   "cell_type": "code",
   "execution_count": null,
   "id": "8661c109",
   "metadata": {
    "execution": {
     "iopub.status.busy": "2021-08-25T19:06:23.648005Z",
     "iopub.status.idle": "2021-08-25T19:06:23.648429Z"
    },
    "papermill": {
     "duration": null,
     "end_time": null,
     "exception": null,
     "start_time": null,
     "status": "pending"
    },
    "tags": []
   },
   "outputs": [],
   "source": [
    "y_train = y_train.groupby(['series_id']).mean()"
   ]
  },
  {
   "cell_type": "code",
   "execution_count": null,
   "id": "18f56f45",
   "metadata": {
    "execution": {
     "iopub.status.busy": "2021-08-25T19:06:23.649377Z",
     "iopub.status.idle": "2021-08-25T19:06:23.649784Z"
    },
    "papermill": {
     "duration": null,
     "end_time": null,
     "exception": null,
     "start_time": null,
     "status": "pending"
    },
    "tags": []
   },
   "outputs": [],
   "source": [
    "temp = range(int(len(seq_data)/700))"
   ]
  },
  {
   "cell_type": "code",
   "execution_count": null,
   "id": "ea918df5",
   "metadata": {
    "execution": {
     "iopub.status.busy": "2021-08-25T19:06:23.650694Z",
     "iopub.status.idle": "2021-08-25T19:06:23.651107Z"
    },
    "papermill": {
     "duration": null,
     "end_time": null,
     "exception": null,
     "start_time": null,
     "status": "pending"
    },
    "tags": []
   },
   "outputs": [],
   "source": [
    "y_train['series_id'] = temp"
   ]
  },
  {
   "cell_type": "markdown",
   "id": "fcc958d3",
   "metadata": {
    "papermill": {
     "duration": null,
     "end_time": null,
     "exception": null,
     "start_time": null,
     "status": "pending"
    },
    "tags": []
   },
   "source": [
    "## ASSERT STATEMENT \n",
    "Don't proceed if the following cell outputs False"
   ]
  },
  {
   "cell_type": "code",
   "execution_count": null,
   "id": "b0cdebec",
   "metadata": {
    "execution": {
     "iopub.status.busy": "2021-08-25T19:06:23.651973Z",
     "iopub.status.idle": "2021-08-25T19:06:23.652417Z"
    },
    "papermill": {
     "duration": null,
     "end_time": null,
     "exception": null,
     "start_time": null,
     "status": "pending"
    },
    "tags": []
   },
   "outputs": [],
   "source": [
    "(seq_data.series_id.value_counts() == 700 ).sum() == len(y_train)"
   ]
  },
  {
   "cell_type": "code",
   "execution_count": null,
   "id": "9726b018",
   "metadata": {
    "execution": {
     "iopub.status.busy": "2021-08-25T19:06:23.653392Z",
     "iopub.status.idle": "2021-08-25T19:06:23.653816Z"
    },
    "papermill": {
     "duration": null,
     "end_time": null,
     "exception": null,
     "start_time": null,
     "status": "pending"
    },
    "tags": []
   },
   "outputs": [],
   "source": [
    "seq_data"
   ]
  },
  {
   "cell_type": "code",
   "execution_count": null,
   "id": "5ea5fc4d",
   "metadata": {
    "execution": {
     "iopub.status.busy": "2021-08-25T19:06:23.654749Z",
     "iopub.status.idle": "2021-08-25T19:06:23.655195Z"
    },
    "papermill": {
     "duration": null,
     "end_time": null,
     "exception": null,
     "start_time": null,
     "status": "pending"
    },
    "tags": []
   },
   "outputs": [],
   "source": [
    "name = 'S{}_train.csv'.format(file_num)"
   ]
  },
  {
   "cell_type": "code",
   "execution_count": null,
   "id": "117927f2",
   "metadata": {
    "execution": {
     "iopub.status.busy": "2021-08-25T19:06:23.656074Z",
     "iopub.status.idle": "2021-08-25T19:06:23.656501Z"
    },
    "papermill": {
     "duration": null,
     "end_time": null,
     "exception": null,
     "start_time": null,
     "status": "pending"
    },
    "tags": []
   },
   "outputs": [],
   "source": [
    "seq_data.to_csv(name)"
   ]
  },
  {
   "cell_type": "code",
   "execution_count": null,
   "id": "760b204d",
   "metadata": {
    "execution": {
     "iopub.status.busy": "2021-08-25T19:06:23.657249Z",
     "iopub.status.idle": "2021-08-25T19:06:23.657659Z"
    },
    "papermill": {
     "duration": null,
     "end_time": null,
     "exception": null,
     "start_time": null,
     "status": "pending"
    },
    "tags": []
   },
   "outputs": [],
   "source": [
    "y_train"
   ]
  },
  {
   "cell_type": "code",
   "execution_count": null,
   "id": "651c2c08",
   "metadata": {
    "execution": {
     "iopub.status.busy": "2021-08-25T19:06:23.658517Z",
     "iopub.status.idle": "2021-08-25T19:06:23.658938Z"
    },
    "papermill": {
     "duration": null,
     "end_time": null,
     "exception": null,
     "start_time": null,
     "status": "pending"
    },
    "tags": []
   },
   "outputs": [],
   "source": [
    "tname = 'S{}_label.csv'.format(file_num)"
   ]
  },
  {
   "cell_type": "code",
   "execution_count": null,
   "id": "6e043dee",
   "metadata": {
    "execution": {
     "iopub.status.busy": "2021-08-25T19:06:23.65991Z",
     "iopub.status.idle": "2021-08-25T19:06:23.660365Z"
    },
    "papermill": {
     "duration": null,
     "end_time": null,
     "exception": null,
     "start_time": null,
     "status": "pending"
    },
    "tags": []
   },
   "outputs": [],
   "source": [
    "y_train.to_csv(tname)"
   ]
  },
  {
   "cell_type": "markdown",
   "metadata": {},
   "source": [
    "From the two cells above I have used the cleaned output data"
   ]
  },
  {
   "cell_type": "markdown",
   "metadata": {},
   "source": [
    "Authored By - Sayan Mondal ( sayan.ee.nitd@gmail.com )"
   ]
  }
 ],
 "metadata": {
  "kernelspec": {
   "display_name": "Python 3",
   "language": "python",
   "name": "python3"
  },
  "language_info": {
   "codemirror_mode": {
    "name": "ipython",
    "version": 3
   },
   "file_extension": ".py",
   "mimetype": "text/x-python",
   "name": "python",
   "nbconvert_exporter": "python",
   "pygments_lexer": "ipython3",
   "version": "3.7.10"
  },
  "papermill": {
   "default_parameters": {},
   "duration": 49.059685,
   "end_time": "2021-08-27T16:24:12.227302",
   "environment_variables": {},
   "exception": true,
   "input_path": "__notebook__.ipynb",
   "output_path": "__notebook__.ipynb",
   "parameters": {},
   "start_time": "2021-08-27T16:23:23.167617",
   "version": "2.3.3"
  }
 },
 "nbformat": 4,
 "nbformat_minor": 5
}
